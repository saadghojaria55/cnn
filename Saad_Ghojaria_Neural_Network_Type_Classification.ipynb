{
  "cells": [
    {
      "cell_type": "markdown",
      "metadata": {
        "id": "view-in-github",
        "colab_type": "text"
      },
      "source": [
        "<a href=\"https://colab.research.google.com/github/saadghojaria55/cnn/blob/main/Saad_Ghojaria_Neural_Network_Type_Classification.ipynb\" target=\"_parent\"><img src=\"https://colab.research.google.com/assets/colab-badge.svg\" alt=\"Open In Colab\"/></a>"
      ]
    },
    {
      "cell_type": "markdown",
      "id": "52d43022",
      "metadata": {
        "papermill": {
          "duration": 0.022305,
          "end_time": "2022-03-06T04:53:17.286451",
          "exception": false,
          "start_time": "2022-03-06T04:53:17.264146",
          "status": "completed"
        },
        "tags": [],
        "id": "52d43022"
      },
      "source": [
        "<h2 style='text-align:center;font-family:Comic Sans MS;font-size:40px;background-color:lightseagreen;border:20px;color:white'>Abstract</h2>\n",
        "The purpose of this notebook is to perform charecter recognition on TMINST (94 charecter) dataset. We used a simple CNN network to perform the charecter recognition. Overall it was observed that the accuracy is close to 94.2% which is pretty good for a simple 7 layer CNN."
      ]
    },
    {
      "cell_type": "markdown",
      "id": "904c4a77",
      "metadata": {
        "papermill": {
          "duration": 0.020767,
          "end_time": "2022-03-06T04:53:17.330198",
          "exception": false,
          "start_time": "2022-03-06T04:53:17.309431",
          "status": "completed"
        },
        "tags": [],
        "id": "904c4a77"
      },
      "source": [
        "<h2 style='text-align:center;font-family:Comic Sans MS;font-size:40px;background-color:lightseagreen;border:20px;color:white'>Importing Libraries and Fuctions</h2>"
      ]
    },
    {
      "cell_type": "code",
      "execution_count": 2,
      "id": "2402e4c0",
      "metadata": {
        "_cell_guid": "b1076dfc-b9ad-4769-8c92-a6c4dae69d19",
        "_kg_hide-input": true,
        "_uuid": "8f2839f25d086af736a60e9eeb907d3b93b6e0e5",
        "execution": {
          "iopub.execute_input": "2022-03-06T04:53:17.382635Z",
          "iopub.status.busy": "2022-03-06T04:53:17.381873Z",
          "iopub.status.idle": "2022-03-06T04:53:23.069689Z",
          "shell.execute_reply": "2022-03-06T04:53:23.070228Z"
        },
        "papermill": {
          "duration": 5.71917,
          "end_time": "2022-03-06T04:53:23.070491",
          "exception": false,
          "start_time": "2022-03-06T04:53:17.351321",
          "status": "completed"
        },
        "tags": [],
        "id": "2402e4c0"
      },
      "outputs": [],
      "source": [
        "import numpy as np \n",
        "import pandas as pd \n",
        "import re\n",
        "\n",
        "from sklearn.model_selection import train_test_split\n",
        "from sklearn.utils import shuffle\n",
        "\n",
        "import tensorflow as tf \n",
        "from tensorflow.keras.utils import to_categorical\n",
        "\n",
        "\n",
        "import matplotlib.pyplot as plt\n",
        "import warnings\n",
        "warnings.filterwarnings('ignore')\n",
        "%matplotlib inline\n",
        "\n",
        "from google.colab import drive"
      ]
    },
    {
      "cell_type": "markdown",
      "id": "07f4a1b2",
      "metadata": {
        "papermill": {
          "duration": 0.021183,
          "end_time": "2022-03-06T04:53:23.114124",
          "exception": false,
          "start_time": "2022-03-06T04:53:23.092941",
          "status": "completed"
        },
        "tags": [],
        "id": "07f4a1b2"
      },
      "source": [
        "<h2 style='text-align:center;font-family:Comic Sans MS;font-size:40px;background-color:lightseagreen;border:20px;color:white'>Reading Data</h2>\n",
        "\n",
        "About Data\n",
        "There are 274093 chracters present in the dataset we have 784 columns in which 782 are for charcater reprenstation.\n",
        "\n",
        "Fun fact about this data : \n",
        "It "
      ]
    },
    {
      "cell_type": "code",
      "execution_count": 22,
      "id": "c8c42339",
      "metadata": {
        "execution": {
          "iopub.execute_input": "2022-03-06T04:53:23.160872Z",
          "iopub.status.busy": "2022-03-06T04:53:23.160299Z",
          "iopub.status.idle": "2022-03-06T04:53:57.010032Z",
          "shell.execute_reply": "2022-03-06T04:53:57.010433Z"
        },
        "papermill": {
          "duration": 33.875294,
          "end_time": "2022-03-06T04:53:57.010593",
          "exception": false,
          "start_time": "2022-03-06T04:53:23.135299",
          "status": "completed"
        },
        "tags": [],
        "colab": {
          "base_uri": "https://localhost:8080/",
          "height": 411
        },
        "id": "c8c42339",
        "outputId": "92e9d258-deba-4ee8-ebd0-60c4f6723f96"
      },
      "outputs": [
        {
          "output_type": "stream",
          "name": "stdout",
          "text": [
            "Drive already mounted at /content/drive; to attempt to forcibly remount, call drive.mount(\"/content/drive\", force_remount=True).\n"
          ]
        },
        {
          "output_type": "execute_result",
          "data": {
            "text/plain": [
              "              1         2         3         4         5         6  \\\n",
              "count  274093.0  274093.0  274093.0  274093.0  274093.0  274093.0   \n",
              "mean        0.0       0.0       0.0       0.0       0.0       0.0   \n",
              "std         0.0       0.0       0.0       0.0       0.0       0.0   \n",
              "min         0.0       0.0       0.0       0.0       0.0       0.0   \n",
              "25%         0.0       0.0       0.0       0.0       0.0       0.0   \n",
              "50%         0.0       0.0       0.0       0.0       0.0       0.0   \n",
              "75%         0.0       0.0       0.0       0.0       0.0       0.0   \n",
              "max         0.0       0.0       0.0       0.0       0.0       0.0   \n",
              "\n",
              "                   7              8              9             10  ...  \\\n",
              "count  274093.000000  274093.000000  274093.000000  274093.000000  ...   \n",
              "mean        0.000004       0.000011       0.001043       0.001518  ...   \n",
              "std         0.001910       0.004271       0.475743       0.494410  ...   \n",
              "min         0.000000       0.000000       0.000000       0.000000  ...   \n",
              "25%         0.000000       0.000000       0.000000       0.000000  ...   \n",
              "50%         0.000000       0.000000       0.000000       0.000000  ...   \n",
              "75%         0.000000       0.000000       0.000000       0.000000  ...   \n",
              "max         1.000000       2.000000     248.000000     245.000000  ...   \n",
              "\n",
              "                 775            776            777            778  \\\n",
              "count  274093.000000  274093.000000  274093.000000  274093.000000   \n",
              "mean        0.002638       0.001562       0.001131       0.000894   \n",
              "std         0.320080       0.179093       0.150590       0.189578   \n",
              "min         0.000000       0.000000       0.000000       0.000000   \n",
              "25%         0.000000       0.000000       0.000000       0.000000   \n",
              "50%         0.000000       0.000000       0.000000       0.000000   \n",
              "75%         0.000000       0.000000       0.000000       0.000000   \n",
              "max       103.000000      59.000000      41.000000      88.000000   \n",
              "\n",
              "                 779            780            781            782  \\\n",
              "count  274093.000000  274093.000000  274093.000000  274093.000000   \n",
              "mean        0.000489       0.000317       0.000204       0.000033   \n",
              "std         0.083345       0.067396       0.053345       0.012813   \n",
              "min         0.000000       0.000000       0.000000       0.000000   \n",
              "25%         0.000000       0.000000       0.000000       0.000000   \n",
              "50%         0.000000       0.000000       0.000000       0.000000   \n",
              "75%         0.000000       0.000000       0.000000       0.000000   \n",
              "max        21.000000      20.000000      19.000000       6.000000   \n",
              "\n",
              "                 783       784  \n",
              "count  274093.000000  274093.0  \n",
              "mean        0.000033       0.0  \n",
              "std         0.012813       0.0  \n",
              "min         0.000000       0.0  \n",
              "25%         0.000000       0.0  \n",
              "50%         0.000000       0.0  \n",
              "75%         0.000000       0.0  \n",
              "max         6.000000       0.0  \n",
              "\n",
              "[8 rows x 784 columns]"
            ],
            "text/html": [
              "\n",
              "  <div id=\"df-5add2017-b63c-48f4-9b84-97903f11461d\">\n",
              "    <div class=\"colab-df-container\">\n",
              "      <div>\n",
              "<style scoped>\n",
              "    .dataframe tbody tr th:only-of-type {\n",
              "        vertical-align: middle;\n",
              "    }\n",
              "\n",
              "    .dataframe tbody tr th {\n",
              "        vertical-align: top;\n",
              "    }\n",
              "\n",
              "    .dataframe thead th {\n",
              "        text-align: right;\n",
              "    }\n",
              "</style>\n",
              "<table border=\"1\" class=\"dataframe\">\n",
              "  <thead>\n",
              "    <tr style=\"text-align: right;\">\n",
              "      <th></th>\n",
              "      <th>1</th>\n",
              "      <th>2</th>\n",
              "      <th>3</th>\n",
              "      <th>4</th>\n",
              "      <th>5</th>\n",
              "      <th>6</th>\n",
              "      <th>7</th>\n",
              "      <th>8</th>\n",
              "      <th>9</th>\n",
              "      <th>10</th>\n",
              "      <th>...</th>\n",
              "      <th>775</th>\n",
              "      <th>776</th>\n",
              "      <th>777</th>\n",
              "      <th>778</th>\n",
              "      <th>779</th>\n",
              "      <th>780</th>\n",
              "      <th>781</th>\n",
              "      <th>782</th>\n",
              "      <th>783</th>\n",
              "      <th>784</th>\n",
              "    </tr>\n",
              "  </thead>\n",
              "  <tbody>\n",
              "    <tr>\n",
              "      <th>count</th>\n",
              "      <td>274093.0</td>\n",
              "      <td>274093.0</td>\n",
              "      <td>274093.0</td>\n",
              "      <td>274093.0</td>\n",
              "      <td>274093.0</td>\n",
              "      <td>274093.0</td>\n",
              "      <td>274093.000000</td>\n",
              "      <td>274093.000000</td>\n",
              "      <td>274093.000000</td>\n",
              "      <td>274093.000000</td>\n",
              "      <td>...</td>\n",
              "      <td>274093.000000</td>\n",
              "      <td>274093.000000</td>\n",
              "      <td>274093.000000</td>\n",
              "      <td>274093.000000</td>\n",
              "      <td>274093.000000</td>\n",
              "      <td>274093.000000</td>\n",
              "      <td>274093.000000</td>\n",
              "      <td>274093.000000</td>\n",
              "      <td>274093.000000</td>\n",
              "      <td>274093.0</td>\n",
              "    </tr>\n",
              "    <tr>\n",
              "      <th>mean</th>\n",
              "      <td>0.0</td>\n",
              "      <td>0.0</td>\n",
              "      <td>0.0</td>\n",
              "      <td>0.0</td>\n",
              "      <td>0.0</td>\n",
              "      <td>0.0</td>\n",
              "      <td>0.000004</td>\n",
              "      <td>0.000011</td>\n",
              "      <td>0.001043</td>\n",
              "      <td>0.001518</td>\n",
              "      <td>...</td>\n",
              "      <td>0.002638</td>\n",
              "      <td>0.001562</td>\n",
              "      <td>0.001131</td>\n",
              "      <td>0.000894</td>\n",
              "      <td>0.000489</td>\n",
              "      <td>0.000317</td>\n",
              "      <td>0.000204</td>\n",
              "      <td>0.000033</td>\n",
              "      <td>0.000033</td>\n",
              "      <td>0.0</td>\n",
              "    </tr>\n",
              "    <tr>\n",
              "      <th>std</th>\n",
              "      <td>0.0</td>\n",
              "      <td>0.0</td>\n",
              "      <td>0.0</td>\n",
              "      <td>0.0</td>\n",
              "      <td>0.0</td>\n",
              "      <td>0.0</td>\n",
              "      <td>0.001910</td>\n",
              "      <td>0.004271</td>\n",
              "      <td>0.475743</td>\n",
              "      <td>0.494410</td>\n",
              "      <td>...</td>\n",
              "      <td>0.320080</td>\n",
              "      <td>0.179093</td>\n",
              "      <td>0.150590</td>\n",
              "      <td>0.189578</td>\n",
              "      <td>0.083345</td>\n",
              "      <td>0.067396</td>\n",
              "      <td>0.053345</td>\n",
              "      <td>0.012813</td>\n",
              "      <td>0.012813</td>\n",
              "      <td>0.0</td>\n",
              "    </tr>\n",
              "    <tr>\n",
              "      <th>min</th>\n",
              "      <td>0.0</td>\n",
              "      <td>0.0</td>\n",
              "      <td>0.0</td>\n",
              "      <td>0.0</td>\n",
              "      <td>0.0</td>\n",
              "      <td>0.0</td>\n",
              "      <td>0.000000</td>\n",
              "      <td>0.000000</td>\n",
              "      <td>0.000000</td>\n",
              "      <td>0.000000</td>\n",
              "      <td>...</td>\n",
              "      <td>0.000000</td>\n",
              "      <td>0.000000</td>\n",
              "      <td>0.000000</td>\n",
              "      <td>0.000000</td>\n",
              "      <td>0.000000</td>\n",
              "      <td>0.000000</td>\n",
              "      <td>0.000000</td>\n",
              "      <td>0.000000</td>\n",
              "      <td>0.000000</td>\n",
              "      <td>0.0</td>\n",
              "    </tr>\n",
              "    <tr>\n",
              "      <th>25%</th>\n",
              "      <td>0.0</td>\n",
              "      <td>0.0</td>\n",
              "      <td>0.0</td>\n",
              "      <td>0.0</td>\n",
              "      <td>0.0</td>\n",
              "      <td>0.0</td>\n",
              "      <td>0.000000</td>\n",
              "      <td>0.000000</td>\n",
              "      <td>0.000000</td>\n",
              "      <td>0.000000</td>\n",
              "      <td>...</td>\n",
              "      <td>0.000000</td>\n",
              "      <td>0.000000</td>\n",
              "      <td>0.000000</td>\n",
              "      <td>0.000000</td>\n",
              "      <td>0.000000</td>\n",
              "      <td>0.000000</td>\n",
              "      <td>0.000000</td>\n",
              "      <td>0.000000</td>\n",
              "      <td>0.000000</td>\n",
              "      <td>0.0</td>\n",
              "    </tr>\n",
              "    <tr>\n",
              "      <th>50%</th>\n",
              "      <td>0.0</td>\n",
              "      <td>0.0</td>\n",
              "      <td>0.0</td>\n",
              "      <td>0.0</td>\n",
              "      <td>0.0</td>\n",
              "      <td>0.0</td>\n",
              "      <td>0.000000</td>\n",
              "      <td>0.000000</td>\n",
              "      <td>0.000000</td>\n",
              "      <td>0.000000</td>\n",
              "      <td>...</td>\n",
              "      <td>0.000000</td>\n",
              "      <td>0.000000</td>\n",
              "      <td>0.000000</td>\n",
              "      <td>0.000000</td>\n",
              "      <td>0.000000</td>\n",
              "      <td>0.000000</td>\n",
              "      <td>0.000000</td>\n",
              "      <td>0.000000</td>\n",
              "      <td>0.000000</td>\n",
              "      <td>0.0</td>\n",
              "    </tr>\n",
              "    <tr>\n",
              "      <th>75%</th>\n",
              "      <td>0.0</td>\n",
              "      <td>0.0</td>\n",
              "      <td>0.0</td>\n",
              "      <td>0.0</td>\n",
              "      <td>0.0</td>\n",
              "      <td>0.0</td>\n",
              "      <td>0.000000</td>\n",
              "      <td>0.000000</td>\n",
              "      <td>0.000000</td>\n",
              "      <td>0.000000</td>\n",
              "      <td>...</td>\n",
              "      <td>0.000000</td>\n",
              "      <td>0.000000</td>\n",
              "      <td>0.000000</td>\n",
              "      <td>0.000000</td>\n",
              "      <td>0.000000</td>\n",
              "      <td>0.000000</td>\n",
              "      <td>0.000000</td>\n",
              "      <td>0.000000</td>\n",
              "      <td>0.000000</td>\n",
              "      <td>0.0</td>\n",
              "    </tr>\n",
              "    <tr>\n",
              "      <th>max</th>\n",
              "      <td>0.0</td>\n",
              "      <td>0.0</td>\n",
              "      <td>0.0</td>\n",
              "      <td>0.0</td>\n",
              "      <td>0.0</td>\n",
              "      <td>0.0</td>\n",
              "      <td>1.000000</td>\n",
              "      <td>2.000000</td>\n",
              "      <td>248.000000</td>\n",
              "      <td>245.000000</td>\n",
              "      <td>...</td>\n",
              "      <td>103.000000</td>\n",
              "      <td>59.000000</td>\n",
              "      <td>41.000000</td>\n",
              "      <td>88.000000</td>\n",
              "      <td>21.000000</td>\n",
              "      <td>20.000000</td>\n",
              "      <td>19.000000</td>\n",
              "      <td>6.000000</td>\n",
              "      <td>6.000000</td>\n",
              "      <td>0.0</td>\n",
              "    </tr>\n",
              "  </tbody>\n",
              "</table>\n",
              "<p>8 rows × 784 columns</p>\n",
              "</div>\n",
              "      <button class=\"colab-df-convert\" onclick=\"convertToInteractive('df-5add2017-b63c-48f4-9b84-97903f11461d')\"\n",
              "              title=\"Convert this dataframe to an interactive table.\"\n",
              "              style=\"display:none;\">\n",
              "        \n",
              "  <svg xmlns=\"http://www.w3.org/2000/svg\" height=\"24px\"viewBox=\"0 0 24 24\"\n",
              "       width=\"24px\">\n",
              "    <path d=\"M0 0h24v24H0V0z\" fill=\"none\"/>\n",
              "    <path d=\"M18.56 5.44l.94 2.06.94-2.06 2.06-.94-2.06-.94-.94-2.06-.94 2.06-2.06.94zm-11 1L8.5 8.5l.94-2.06 2.06-.94-2.06-.94L8.5 2.5l-.94 2.06-2.06.94zm10 10l.94 2.06.94-2.06 2.06-.94-2.06-.94-.94-2.06-.94 2.06-2.06.94z\"/><path d=\"M17.41 7.96l-1.37-1.37c-.4-.4-.92-.59-1.43-.59-.52 0-1.04.2-1.43.59L10.3 9.45l-7.72 7.72c-.78.78-.78 2.05 0 2.83L4 21.41c.39.39.9.59 1.41.59.51 0 1.02-.2 1.41-.59l7.78-7.78 2.81-2.81c.8-.78.8-2.07 0-2.86zM5.41 20L4 18.59l7.72-7.72 1.47 1.35L5.41 20z\"/>\n",
              "  </svg>\n",
              "      </button>\n",
              "      \n",
              "  <style>\n",
              "    .colab-df-container {\n",
              "      display:flex;\n",
              "      flex-wrap:wrap;\n",
              "      gap: 12px;\n",
              "    }\n",
              "\n",
              "    .colab-df-convert {\n",
              "      background-color: #E8F0FE;\n",
              "      border: none;\n",
              "      border-radius: 50%;\n",
              "      cursor: pointer;\n",
              "      display: none;\n",
              "      fill: #1967D2;\n",
              "      height: 32px;\n",
              "      padding: 0 0 0 0;\n",
              "      width: 32px;\n",
              "    }\n",
              "\n",
              "    .colab-df-convert:hover {\n",
              "      background-color: #E2EBFA;\n",
              "      box-shadow: 0px 1px 2px rgba(60, 64, 67, 0.3), 0px 1px 3px 1px rgba(60, 64, 67, 0.15);\n",
              "      fill: #174EA6;\n",
              "    }\n",
              "\n",
              "    [theme=dark] .colab-df-convert {\n",
              "      background-color: #3B4455;\n",
              "      fill: #D2E3FC;\n",
              "    }\n",
              "\n",
              "    [theme=dark] .colab-df-convert:hover {\n",
              "      background-color: #434B5C;\n",
              "      box-shadow: 0px 1px 3px 1px rgba(0, 0, 0, 0.15);\n",
              "      filter: drop-shadow(0px 1px 2px rgba(0, 0, 0, 0.3));\n",
              "      fill: #FFFFFF;\n",
              "    }\n",
              "  </style>\n",
              "\n",
              "      <script>\n",
              "        const buttonEl =\n",
              "          document.querySelector('#df-5add2017-b63c-48f4-9b84-97903f11461d button.colab-df-convert');\n",
              "        buttonEl.style.display =\n",
              "          google.colab.kernel.accessAllowed ? 'block' : 'none';\n",
              "\n",
              "        async function convertToInteractive(key) {\n",
              "          const element = document.querySelector('#df-5add2017-b63c-48f4-9b84-97903f11461d');\n",
              "          const dataTable =\n",
              "            await google.colab.kernel.invokeFunction('convertToInteractive',\n",
              "                                                     [key], {});\n",
              "          if (!dataTable) return;\n",
              "\n",
              "          const docLinkHtml = 'Like what you see? Visit the ' +\n",
              "            '<a target=\"_blank\" href=https://colab.research.google.com/notebooks/data_table.ipynb>data table notebook</a>'\n",
              "            + ' to learn more about interactive tables.';\n",
              "          element.innerHTML = '';\n",
              "          dataTable['output_type'] = 'display_data';\n",
              "          await google.colab.output.renderOutput(dataTable, element);\n",
              "          const docLink = document.createElement('div');\n",
              "          docLink.innerHTML = docLinkHtml;\n",
              "          element.appendChild(docLink);\n",
              "        }\n",
              "      </script>\n",
              "    </div>\n",
              "  </div>\n",
              "  "
            ]
          },
          "metadata": {},
          "execution_count": 22
        }
      ],
      "source": [
        "# Reading Data\n",
        "url = \"/content/drive/MyDrive/94_character_TMNIST.csv\"\n",
        "#df = h2o.import_file(path = url)\n",
        "drive.mount('/content/drive')\n",
        "\n",
        "df = pd.read_csv(url)\n",
        "df.describe()"
      ]
    },
    {
      "cell_type": "markdown",
      "id": "ee2102a9",
      "metadata": {
        "papermill": {
          "duration": 0.022392,
          "end_time": "2022-03-06T04:53:57.055316",
          "exception": false,
          "start_time": "2022-03-06T04:53:57.032924",
          "status": "completed"
        },
        "tags": [],
        "id": "ee2102a9"
      },
      "source": [
        "<h2 style='text-align:center;font-family:Arial;font-size:40px;background-color:black;border:20px;color:white'>Data Pre Porcessing :</h2>\n",
        "\n",
        "We will need this splitting in order to correctly label the predictions\n",
        "\n",
        "Step 1 : Defining types of data labels that can be present  <br>\n",
        "1.   Alphabets \n",
        "2.   Numbers\n",
        "3.   Symbols\n",
        "\n",
        "Step 2 : Get the regex for each type of data labels \n",
        "\n",
        "Step 3 : Creating Groups for each of them\n"
      ]
    },
    {
      "cell_type": "code",
      "execution_count": 80,
      "id": "be1c05d7",
      "metadata": {
        "execution": {
          "iopub.execute_input": "2022-03-06T04:53:57.123544Z",
          "iopub.status.busy": "2022-03-06T04:53:57.110386Z",
          "iopub.status.idle": "2022-03-06T04:53:57.229361Z",
          "shell.execute_reply": "2022-03-06T04:53:57.228875Z"
        },
        "papermill": {
          "duration": 0.152065,
          "end_time": "2022-03-06T04:53:57.229484",
          "exception": false,
          "start_time": "2022-03-06T04:53:57.077419",
          "status": "completed"
        },
        "tags": [],
        "colab": {
          "base_uri": "https://localhost:8080/"
        },
        "id": "be1c05d7",
        "outputId": "f0e010d1-f07b-4176-c55d-2845bc57f049"
      },
      "outputs": [
        {
          "output_type": "stream",
          "name": "stdout",
          "text": [
            "['f', 'x', 'k', 'g', 'd', 't', 'o', 'y', 'u', 'm', 'c', 'h', 'j', 'b', 'w', 'l', 'a', 'i', 'r', 'p', 'e', 's', 'q', 'n', 'z', 'v']\n",
            "['D', 'F', 'J', 'H', 'A', 'G', 'W', 'N', 'P', 'X', 'I', 'Y', 'T', 'K', 'E', 'V', 'M', 'S', 'U', 'C', 'B', 'O', 'R', 'Z', 'Q', 'L']\n",
            "['6', '8', '1', '2', '3', '4', '9', '7', '5', '0']\n",
            "['}', '{', '/', '@', '>', '\\\\', '*', '?', '|', '%', '-', '!', '^', '=', '#', '<', '.', '`', ')', '~', ';', '\"', '&', ']', ':', '_', ',', '$', '(', ' ', \"'\", '+', '[']\n"
          ]
        }
      ],
      "source": [
        "# Grouping All labels\n",
        "all_ = list(df['labels'].unique())\n",
        "\n",
        "# Regex Pattern to check alphabets, digits and special symbols\n",
        "pattern_uc = re.compile(r\"[A-Z]\") #regex for capital alphabets\n",
        "pattern_lc = re.compile(r\"[a-z]\")  #regex for small alphabets\n",
        "pattern_numbers = re.compile(r\"[0-9]\")  #regex for numbers\n",
        "pattern_symbols = re.compile(r\"[\\W]|[\\_\\,]\")  #regex for Special Characters\n",
        "\n",
        "\n",
        "# Extracting Pattern with regex of each of them and putting them in variables \n",
        "lower_case = pattern_lc.findall(str(all_))\n",
        "Upper_case = pattern_uc.findall(str(all_))\n",
        "Numbers_ = pattern_numbers.findall(str(all_))\n",
        "Symbols_ = list(set(pattern_symbols.findall(str(all_))))\n",
        "\n",
        "\n",
        "# Creating Groups\n",
        "group = 0\n",
        "for list_ in (lower_case,Upper_case,Numbers_,Symbols_):\n",
        "    df.loc[df['labels'].isin(list_), 'group'] = str(group)\n",
        "    group += 1\n",
        "    print(list_)"
      ]
    },
    {
      "cell_type": "code",
      "execution_count": 81,
      "id": "0ad84bab",
      "metadata": {
        "_kg_hide-input": true,
        "execution": {
          "iopub.execute_input": "2022-03-06T04:53:57.778214Z",
          "iopub.status.busy": "2022-03-06T04:53:57.776815Z",
          "iopub.status.idle": "2022-03-06T04:53:58.119241Z",
          "shell.execute_reply": "2022-03-06T04:53:58.118764Z"
        },
        "papermill": {
          "duration": 0.867353,
          "end_time": "2022-03-06T04:53:58.119368",
          "exception": false,
          "start_time": "2022-03-06T04:53:57.252015",
          "status": "completed"
        },
        "tags": [],
        "id": "0ad84bab"
      },
      "outputs": [],
      "source": [
        "# defining X and y for training\n",
        "X = df.iloc[:, 2:-1].astype('float32')  # X is defined after labels column till last column of the dataset -1 denotes last column of the dataset \n",
        "y  = df[['labels']] "
      ]
    },
    {
      "cell_type": "code",
      "execution_count": 82,
      "id": "c195f464",
      "metadata": {
        "_kg_hide-input": true,
        "execution": {
          "iopub.execute_input": "2022-03-06T04:53:58.182708Z",
          "iopub.status.busy": "2022-03-06T04:53:58.181946Z",
          "iopub.status.idle": "2022-03-06T04:53:58.203261Z",
          "shell.execute_reply": "2022-03-06T04:53:58.202837Z"
        },
        "papermill": {
          "duration": 0.060987,
          "end_time": "2022-03-06T04:53:58.203366",
          "exception": false,
          "start_time": "2022-03-06T04:53:58.142379",
          "status": "completed"
        },
        "tags": [],
        "id": "c195f464"
      },
      "outputs": [],
      "source": [
        "# the data to create dictionary\n",
        "labels = y['labels'].unique()\n",
        "values = [num for num in range(len(df['labels'].unique()))]\n",
        "label_dict= dict(zip(labels,values)) #Creating Dictionary \n",
        "label_dict_inv = dict(zip(values,labels))"
      ]
    },
    {
      "cell_type": "code",
      "execution_count": 83,
      "id": "963644b7",
      "metadata": {
        "_kg_hide-input": true,
        "execution": {
          "iopub.execute_input": "2022-03-06T04:53:58.281555Z",
          "iopub.status.busy": "2022-03-06T04:53:58.280219Z",
          "iopub.status.idle": "2022-03-06T04:53:59.545730Z",
          "shell.execute_reply": "2022-03-06T04:53:59.545206Z"
        },
        "papermill": {
          "duration": 1.319838,
          "end_time": "2022-03-06T04:53:59.545866",
          "exception": false,
          "start_time": "2022-03-06T04:53:58.226028",
          "status": "completed"
        },
        "tags": [],
        "id": "963644b7"
      },
      "outputs": [],
      "source": [
        "# Mapping\n",
        "y['labels'].replace(label_dict, inplace=True) #Maping Values"
      ]
    },
    {
      "cell_type": "code",
      "execution_count": 84,
      "id": "a9ed8fa3",
      "metadata": {
        "execution": {
          "iopub.execute_input": "2022-03-06T04:53:59.596240Z",
          "iopub.status.busy": "2022-03-06T04:53:59.595703Z",
          "iopub.status.idle": "2022-03-06T04:53:59.598713Z",
          "shell.execute_reply": "2022-03-06T04:53:59.599118Z"
        },
        "papermill": {
          "duration": 0.030116,
          "end_time": "2022-03-06T04:53:59.599238",
          "exception": false,
          "start_time": "2022-03-06T04:53:59.569122",
          "status": "completed"
        },
        "tags": [],
        "colab": {
          "base_uri": "https://localhost:8080/"
        },
        "id": "a9ed8fa3",
        "outputId": "c788eade-ac9f-4ff5-cab3-aa4628d7c297"
      },
      "outputs": [
        {
          "output_type": "stream",
          "name": "stdout",
          "text": [
            "{'6': 0, 'D': 1, 'f': 2, '/': 3, 'F': 4, 'x': 5, 'J': 6, '8': 7, 'H': 8, 'k': 9, '@': 10, '1': 11, '=': 12, 'g': 13, ')': 14, '2': 15, 'd': 16, '^': 17, '3': 18, 't': 19, '#': 20, '.': 21, '4': 22, 'o': 23, '\"': 24, 'y': 25, 'A': 26, 'u': 27, 'G': 28, '-': 29, 'm': 30, 'W': 31, '&': 32, 'c': 33, '9': 34, 'N': 35, ']': 36, 'P': 37, 'X': 38, '|': 39, '}': 40, 'h': 41, '7': 42, 'j': 43, '5': 44, '>': 45, '?': 46, 'b': 47, '*': 48, 'w': 49, 'l': 50, '0': 51, '$': 52, 'I': 53, 'Y': 54, '%': 55, ':': 56, 'T': 57, 'K': 58, 'E': 59, '<': 60, 'V': 61, '{': 62, 'M': 63, 'S': 64, 'a': 65, 'i': 66, 'r': 67, \"'\": 68, 'p': 69, ';': 70, '[': 71, '+': 72, 'e': 73, 'U': 74, '(': 75, 's': 76, '~': 77, ',': 78, 'C': 79, 'q': 80, '_': 81, 'n': 82, 'B': 83, 'z': 84, 'v': 85, 'O': 86, 'R': 87, '`': 88, 'Z': 89, 'Q': 90, 'L': 91, '!': 92, '\\\\': 93}\n"
          ]
        }
      ],
      "source": [
        "#Checking the mappings\n",
        "print(label_dict)"
      ]
    },
    {
      "cell_type": "markdown",
      "id": "2dae0284",
      "metadata": {
        "execution": {
          "iopub.execute_input": "2021-09-07T01:56:11.33205Z",
          "iopub.status.busy": "2021-09-07T01:56:11.331636Z",
          "iopub.status.idle": "2021-09-07T01:56:11.336283Z",
          "shell.execute_reply": "2021-09-07T01:56:11.335595Z",
          "shell.execute_reply.started": "2021-09-07T01:56:11.332015Z"
        },
        "papermill": {
          "duration": 0.023011,
          "end_time": "2022-03-06T04:53:59.645307",
          "exception": false,
          "start_time": "2022-03-06T04:53:59.622296",
          "status": "completed"
        },
        "tags": [],
        "id": "2dae0284"
      },
      "source": [
        "<h2 style='text-align:center;font-family:Comic Sans MS;font-size:40px;background-color:lightseagreen;border:20px;color:white'>Creating Training and Test Sets</h2>"
      ]
    },
    {
      "cell_type": "code",
      "execution_count": 85,
      "id": "f958a33b",
      "metadata": {
        "_kg_hide-input": true,
        "execution": {
          "iopub.execute_input": "2022-03-06T04:53:59.699226Z",
          "iopub.status.busy": "2022-03-06T04:53:59.698502Z",
          "iopub.status.idle": "2022-03-06T04:54:00.705073Z",
          "shell.execute_reply": "2022-03-06T04:54:00.704447Z"
        },
        "papermill": {
          "duration": 1.036763,
          "end_time": "2022-03-06T04:54:00.705214",
          "exception": false,
          "start_time": "2022-03-06T04:53:59.668451",
          "status": "completed"
        },
        "tags": [],
        "id": "f958a33b"
      },
      "outputs": [],
      "source": [
        "# creating test train split of 80% and 20%\n",
        "X_train, X_test, y_train, y_test = train_test_split(X, y, test_size = 0.2)"
      ]
    },
    {
      "cell_type": "code",
      "execution_count": 86,
      "id": "927eb150",
      "metadata": {
        "_kg_hide-input": true,
        "execution": {
          "iopub.execute_input": "2022-03-06T04:54:00.758857Z",
          "iopub.status.busy": "2022-03-06T04:54:00.758055Z",
          "iopub.status.idle": "2022-03-06T04:54:00.800114Z",
          "shell.execute_reply": "2022-03-06T04:54:00.799686Z"
        },
        "papermill": {
          "duration": 0.071473,
          "end_time": "2022-03-06T04:54:00.800233",
          "exception": false,
          "start_time": "2022-03-06T04:54:00.728760",
          "status": "completed"
        },
        "tags": [],
        "colab": {
          "base_uri": "https://localhost:8080/"
        },
        "id": "927eb150",
        "outputId": "cbb5f98e-f4a8-4e01-a9af-6aee770429b9"
      },
      "outputs": [
        {
          "output_type": "stream",
          "name": "stdout",
          "text": [
            "219274\n"
          ]
        }
      ],
      "source": [
        "# preping the inputs for training\n",
        "Length, Height = 28,28\n",
        "NCl = y_train.nunique()[0] # Unique targets\n",
        "\n",
        "# N of images 28x28\n",
        "print(X_train.shape[0])\n"
      ]
    },
    {
      "cell_type": "code",
      "source": [
        "X_train = np.reshape(X_train.values, (X_train.shape[0] ,Length, Height)) \n",
        "X_test = np.reshape(X_test.values, (X_test.shape[0] ,Length, Height))\n",
        "\n",
        "# Target into Categorical Values\n",
        "y_train = to_categorical(y_train, NCl, dtype='int' )\n",
        "y_test = to_categorical(y_test, NCl, dtype='int' )\n",
        "\n",
        "print(f'X:Train, Test data shape:{X_train.shape},{X_test.shape}')\n",
        "print(f'Y:Train, Test data shape:{y_train.shape},{y_test.shape}')"
      ],
      "metadata": {
        "colab": {
          "base_uri": "https://localhost:8080/"
        },
        "id": "4orCjycqaWOg",
        "outputId": "be84ad44-40ca-48df-c1de-8c8707378607"
      },
      "id": "4orCjycqaWOg",
      "execution_count": 87,
      "outputs": [
        {
          "output_type": "stream",
          "name": "stdout",
          "text": [
            "X:Train, Test data shape:(219274, 28, 28),(54819, 28, 28)\n",
            "Y:Train, Test data shape:(219274, 94),(54819, 94)\n"
          ]
        }
      ]
    },
    {
      "cell_type": "markdown",
      "id": "dc585234",
      "metadata": {
        "papermill": {
          "duration": 0.023658,
          "end_time": "2022-03-06T04:54:00.847779",
          "exception": false,
          "start_time": "2022-03-06T04:54:00.824121",
          "status": "completed"
        },
        "tags": [],
        "id": "dc585234"
      },
      "source": [
        "<h2 style='text-align:center;font-family:Comic Sans MS;font-size:40px;background-color:lightseagreen;border:20px;color:white'>Showing samples from the Dataset</h2>"
      ]
    },
    {
      "cell_type": "code",
      "execution_count": 89,
      "id": "d4c4de46",
      "metadata": {
        "execution": {
          "iopub.execute_input": "2022-03-06T04:54:00.901474Z",
          "iopub.status.busy": "2022-03-06T04:54:00.900757Z",
          "iopub.status.idle": "2022-03-06T04:54:02.070872Z",
          "shell.execute_reply": "2022-03-06T04:54:02.071444Z"
        },
        "papermill": {
          "duration": 1.200214,
          "end_time": "2022-03-06T04:54:02.071642",
          "exception": false,
          "start_time": "2022-03-06T04:54:00.871428",
          "status": "completed"
        },
        "tags": [],
        "colab": {
          "base_uri": "https://localhost:8080/",
          "height": 555
        },
        "id": "d4c4de46",
        "outputId": "74c67f80-4987-4b79-a89d-866ab7b23d2c"
      },
      "outputs": [
        {
          "output_type": "display_data",
          "data": {
            "text/plain": [
              "<Figure size 720x720 with 12 Axes>"
            ],
            "image/png": "[encoded data removed]"
          },
          "metadata": {
            "needs_background": "light"
          }
        }
      ],
      "source": [
        "# displaying the charecters of our dataset\n",
        "random = shuffle(X_train[:500]) #Randomly shuffle\n",
        "fig,ax = plt.subplots(3,4 , figsize = (10,10)) \n",
        "axes = ax.flatten()\n",
        "for i in range(12):\n",
        "    img = np.reshape(random[i], (28,28)) # reshaping it for displaying\n",
        "    axes[i].imshow(img, cmap=\"Greys\")\n",
        "    img_final =np.reshape(img, (1,28,28,1)) # reshapng it for passing into model for prediction\n",
        "    axes[i].grid()"
      ]
    },
    {
      "cell_type": "markdown",
      "id": "45597c4c",
      "metadata": {
        "execution": {
          "iopub.execute_input": "2021-09-07T02:23:28.040044Z",
          "iopub.status.busy": "2021-09-07T02:23:28.039647Z",
          "iopub.status.idle": "2021-09-07T02:23:28.051258Z",
          "shell.execute_reply": "2021-09-07T02:23:28.050481Z",
          "shell.execute_reply.started": "2021-09-07T02:23:28.040012Z"
        },
        "papermill": {
          "duration": 0.025495,
          "end_time": "2022-03-06T04:54:02.123005",
          "exception": false,
          "start_time": "2022-03-06T04:54:02.097510",
          "status": "completed"
        },
        "tags": [],
        "id": "45597c4c"
      },
      "source": [
        "<h2 style='text-align:center;font-family:Comic Sans MS;font-size:40px;background-color:lightseagreen;border:20px;color:white'>Importing libraries for building Neural Networks</h2>\n"
      ]
    },
    {
      "cell_type": "code",
      "execution_count": 90,
      "id": "7937dac2",
      "metadata": {
        "_kg_hide-input": true,
        "execution": {
          "iopub.execute_input": "2022-03-06T04:54:02.178171Z",
          "iopub.status.busy": "2022-03-06T04:54:02.177248Z",
          "iopub.status.idle": "2022-03-06T04:54:02.181355Z",
          "shell.execute_reply": "2022-03-06T04:54:02.181802Z"
        },
        "papermill": {
          "duration": 0.03393,
          "end_time": "2022-03-06T04:54:02.181930",
          "exception": false,
          "start_time": "2022-03-06T04:54:02.148000",
          "status": "completed"
        },
        "tags": [],
        "id": "7937dac2"
      },
      "outputs": [],
      "source": [
        "# importing libraries for building neural netwrok\n",
        "from tensorflow.keras.models import Sequential,load_model\n",
        "from tensorflow.keras.layers import Dense, Conv2D, MaxPool2D,Flatten,Dropout,BatchNormalization\n",
        "from tensorflow.keras.optimizers import SGD, Adam, RMSprop\n",
        "from tensorflow.keras.callbacks import EarlyStopping"
      ]
    },
    {
      "cell_type": "markdown",
      "id": "25db9a10",
      "metadata": {
        "execution": {
          "iopub.execute_input": "2021-09-07T01:34:06.239039Z",
          "iopub.status.busy": "2021-09-07T01:34:06.2384Z",
          "iopub.status.idle": "2021-09-07T01:34:06.262235Z",
          "shell.execute_reply": "2021-09-07T01:34:06.261156Z",
          "shell.execute_reply.started": "2021-09-07T01:34:06.238985Z"
        },
        "papermill": {
          "duration": 0.044893,
          "end_time": "2022-03-06T04:54:02.260968",
          "exception": false,
          "start_time": "2022-03-06T04:54:02.216075",
          "status": "completed"
        },
        "tags": [],
        "id": "25db9a10"
      },
      "source": [
        "<h6 style='text-align:center;font-family:Comic Sans MS;font-size:40px;background-color:lightseagreen;border:20px;color:white'>Preping the input for CNN</h3>"
      ]
    },
    {
      "cell_type": "code",
      "execution_count": 91,
      "id": "5326fe92",
      "metadata": {
        "_kg_hide-input": false,
        "execution": {
          "iopub.execute_input": "2022-03-06T04:54:02.358054Z",
          "iopub.status.busy": "2022-03-06T04:54:02.357102Z",
          "iopub.status.idle": "2022-03-06T04:54:02.650495Z",
          "shell.execute_reply": "2022-03-06T04:54:02.651175Z"
        },
        "papermill": {
          "duration": 0.342362,
          "end_time": "2022-03-06T04:54:02.651403",
          "exception": false,
          "start_time": "2022-03-06T04:54:02.309041",
          "status": "completed"
        },
        "tags": [],
        "colab": {
          "base_uri": "https://localhost:8080/"
        },
        "id": "5326fe92",
        "outputId": "fccc60e5-864e-473e-9669-b3f9a38c41d6"
      },
      "outputs": [
        {
          "output_type": "stream",
          "name": "stdout",
          "text": [
            "Train, Test shapes: (219274, 28, 28, 1),(54819, 28, 28, 1)\n"
          ]
        }
      ],
      "source": [
        "RGB = 1  # In this case only one instead of 3 because we dont have Color images\n",
        "X_train = X_train.reshape(X_train.shape[0], X_train.shape[1],X_train.shape[2], RGB)\n",
        "X_test = X_test.reshape(X_test.shape[0], X_test.shape[1], X_test.shape[2],RGB)\n",
        "\n",
        "#normalizing the image data\n",
        "X_train = X_train/255\n",
        "X_test = X_test/255\n",
        "print(f'Train, Test shapes: {X_train.shape},{X_test.shape}')"
      ]
    },
    {
      "cell_type": "markdown",
      "id": "c2d77c44",
      "metadata": {
        "papermill": {
          "duration": 0.043713,
          "end_time": "2022-03-06T04:54:02.738992",
          "exception": false,
          "start_time": "2022-03-06T04:54:02.695279",
          "status": "completed"
        },
        "tags": [],
        "id": "c2d77c44"
      },
      "source": [
        "<h6 style='text-align:center;font-family:Comic Sans MS;font-size:40px;background-color:lightseagreen;border:20px;color:white'>Building the CNN Architecture</h6>"
      ]
    },
    {
      "cell_type": "markdown",
      "id": "3ef86151",
      "metadata": {
        "papermill": {
          "duration": 0.042037,
          "end_time": "2022-03-06T04:54:02.825846",
          "exception": false,
          "start_time": "2022-03-06T04:54:02.783809",
          "status": "completed"
        },
        "tags": [],
        "id": "3ef86151"
      },
      "source": [
        "![](https://miro.medium.com/max/1200/1*XbuW8WuRrAY5pC4t-9DZAQ.jpeg)"
      ]
    },
    {
      "cell_type": "code",
      "execution_count": 94,
      "id": "2f3c14b4",
      "metadata": {
        "_kg_hide-input": true,
        "execution": {
          "iopub.execute_input": "2022-03-06T04:54:02.920176Z",
          "iopub.status.busy": "2022-03-06T04:54:02.919414Z",
          "iopub.status.idle": "2022-03-06T04:54:05.029305Z",
          "shell.execute_reply": "2022-03-06T04:54:05.029751Z"
        },
        "papermill": {
          "duration": 2.16161,
          "end_time": "2022-03-06T04:54:05.029905",
          "exception": false,
          "start_time": "2022-03-06T04:54:02.868295",
          "status": "completed"
        },
        "tags": [],
        "colab": {
          "base_uri": "https://localhost:8080/",
          "height": 496
        },
        "id": "2f3c14b4",
        "outputId": "1fbc2671-cc82-430f-b18c-46f26b1cf468"
      },
      "outputs": [
        {
          "output_type": "error",
          "ename": "ValueError",
          "evalue": "ignored",
          "traceback": [
            "\u001b[0;31m---------------------------------------------------------------------------\u001b[0m",
            "\u001b[0;31mValueError\u001b[0m                                Traceback (most recent call last)",
            "\u001b[0;32m<ipython-input-94-dc7290afc345>\u001b[0m in \u001b[0;36m<module>\u001b[0;34m()\u001b[0m\n\u001b[1;32m     30\u001b[0m \u001b[0mmodel\u001b[0m\u001b[0;34m.\u001b[0m\u001b[0madd\u001b[0m\u001b[0;34m(\u001b[0m\u001b[0mBatchNormalization\u001b[0m\u001b[0;34m(\u001b[0m\u001b[0;34m)\u001b[0m\u001b[0;34m)\u001b[0m\u001b[0;34m\u001b[0m\u001b[0;34m\u001b[0m\u001b[0m\n\u001b[1;32m     31\u001b[0m \u001b[0mmodel\u001b[0m\u001b[0;34m.\u001b[0m\u001b[0madd\u001b[0m\u001b[0;34m(\u001b[0m\u001b[0mtf\u001b[0m\u001b[0;34m.\u001b[0m\u001b[0mkeras\u001b[0m\u001b[0;34m.\u001b[0m\u001b[0mlayers\u001b[0m\u001b[0;34m.\u001b[0m\u001b[0mActivation\u001b[0m\u001b[0;34m(\u001b[0m\u001b[0;34m'relu'\u001b[0m\u001b[0;34m)\u001b[0m\u001b[0;34m)\u001b[0m\u001b[0;34m\u001b[0m\u001b[0;34m\u001b[0m\u001b[0m\n\u001b[0;32m---> 32\u001b[0;31m \u001b[0mmodel\u001b[0m\u001b[0;34m.\u001b[0m\u001b[0madd\u001b[0m\u001b[0;34m(\u001b[0m\u001b[0mMaxPool2D\u001b[0m\u001b[0;34m(\u001b[0m\u001b[0mpool_size\u001b[0m \u001b[0;34m=\u001b[0m \u001b[0;34m(\u001b[0m\u001b[0;36m2\u001b[0m\u001b[0;34m,\u001b[0m\u001b[0;36m2\u001b[0m\u001b[0;34m)\u001b[0m\u001b[0;34m)\u001b[0m\u001b[0;34m)\u001b[0m\u001b[0;34m\u001b[0m\u001b[0;34m\u001b[0m\u001b[0m\n\u001b[0m\u001b[1;32m     33\u001b[0m \u001b[0mmodel\u001b[0m\u001b[0;34m.\u001b[0m\u001b[0madd\u001b[0m\u001b[0;34m(\u001b[0m\u001b[0mDropout\u001b[0m\u001b[0;34m(\u001b[0m\u001b[0;36m0.15\u001b[0m\u001b[0;34m)\u001b[0m\u001b[0;34m)\u001b[0m\u001b[0;34m\u001b[0m\u001b[0;34m\u001b[0m\u001b[0m\n\u001b[1;32m     34\u001b[0m \u001b[0;34m\u001b[0m\u001b[0m\n",
            "\u001b[0;32m/usr/local/lib/python3.7/dist-packages/tensorflow/python/training/tracking/base.py\u001b[0m in \u001b[0;36m_method_wrapper\u001b[0;34m(self, *args, **kwargs)\u001b[0m\n\u001b[1;32m    627\u001b[0m     \u001b[0mself\u001b[0m\u001b[0;34m.\u001b[0m\u001b[0m_self_setattr_tracking\u001b[0m \u001b[0;34m=\u001b[0m \u001b[0;32mFalse\u001b[0m  \u001b[0;31m# pylint: disable=protected-access\u001b[0m\u001b[0;34m\u001b[0m\u001b[0;34m\u001b[0m\u001b[0m\n\u001b[1;32m    628\u001b[0m     \u001b[0;32mtry\u001b[0m\u001b[0;34m:\u001b[0m\u001b[0;34m\u001b[0m\u001b[0;34m\u001b[0m\u001b[0m\n\u001b[0;32m--> 629\u001b[0;31m       \u001b[0mresult\u001b[0m \u001b[0;34m=\u001b[0m \u001b[0mmethod\u001b[0m\u001b[0;34m(\u001b[0m\u001b[0mself\u001b[0m\u001b[0;34m,\u001b[0m \u001b[0;34m*\u001b[0m\u001b[0margs\u001b[0m\u001b[0;34m,\u001b[0m \u001b[0;34m**\u001b[0m\u001b[0mkwargs\u001b[0m\u001b[0;34m)\u001b[0m\u001b[0;34m\u001b[0m\u001b[0;34m\u001b[0m\u001b[0m\n\u001b[0m\u001b[1;32m    630\u001b[0m     \u001b[0;32mfinally\u001b[0m\u001b[0;34m:\u001b[0m\u001b[0;34m\u001b[0m\u001b[0;34m\u001b[0m\u001b[0m\n\u001b[1;32m    631\u001b[0m       \u001b[0mself\u001b[0m\u001b[0;34m.\u001b[0m\u001b[0m_self_setattr_tracking\u001b[0m \u001b[0;34m=\u001b[0m \u001b[0mprevious_value\u001b[0m  \u001b[0;31m# pylint: disable=protected-access\u001b[0m\u001b[0;34m\u001b[0m\u001b[0;34m\u001b[0m\u001b[0m\n",
            "\u001b[0;32m/usr/local/lib/python3.7/dist-packages/keras/utils/traceback_utils.py\u001b[0m in \u001b[0;36merror_handler\u001b[0;34m(*args, **kwargs)\u001b[0m\n\u001b[1;32m     65\u001b[0m     \u001b[0;32mexcept\u001b[0m \u001b[0mException\u001b[0m \u001b[0;32mas\u001b[0m \u001b[0me\u001b[0m\u001b[0;34m:\u001b[0m  \u001b[0;31m# pylint: disable=broad-except\u001b[0m\u001b[0;34m\u001b[0m\u001b[0;34m\u001b[0m\u001b[0m\n\u001b[1;32m     66\u001b[0m       \u001b[0mfiltered_tb\u001b[0m \u001b[0;34m=\u001b[0m \u001b[0m_process_traceback_frames\u001b[0m\u001b[0;34m(\u001b[0m\u001b[0me\u001b[0m\u001b[0;34m.\u001b[0m\u001b[0m__traceback__\u001b[0m\u001b[0;34m)\u001b[0m\u001b[0;34m\u001b[0m\u001b[0;34m\u001b[0m\u001b[0m\n\u001b[0;32m---> 67\u001b[0;31m       \u001b[0;32mraise\u001b[0m \u001b[0me\u001b[0m\u001b[0;34m.\u001b[0m\u001b[0mwith_traceback\u001b[0m\u001b[0;34m(\u001b[0m\u001b[0mfiltered_tb\u001b[0m\u001b[0;34m)\u001b[0m \u001b[0;32mfrom\u001b[0m \u001b[0;32mNone\u001b[0m\u001b[0;34m\u001b[0m\u001b[0;34m\u001b[0m\u001b[0m\n\u001b[0m\u001b[1;32m     68\u001b[0m     \u001b[0;32mfinally\u001b[0m\u001b[0;34m:\u001b[0m\u001b[0;34m\u001b[0m\u001b[0;34m\u001b[0m\u001b[0m\n\u001b[1;32m     69\u001b[0m       \u001b[0;32mdel\u001b[0m \u001b[0mfiltered_tb\u001b[0m\u001b[0;34m\u001b[0m\u001b[0;34m\u001b[0m\u001b[0m\n",
            "\u001b[0;32m/usr/local/lib/python3.7/dist-packages/tensorflow/python/framework/ops.py\u001b[0m in \u001b[0;36m_create_c_op\u001b[0;34m(graph, node_def, inputs, control_inputs, op_def)\u001b[0m\n\u001b[1;32m   2011\u001b[0m   \u001b[0;32mexcept\u001b[0m \u001b[0merrors\u001b[0m\u001b[0;34m.\u001b[0m\u001b[0mInvalidArgumentError\u001b[0m \u001b[0;32mas\u001b[0m \u001b[0me\u001b[0m\u001b[0;34m:\u001b[0m\u001b[0;34m\u001b[0m\u001b[0;34m\u001b[0m\u001b[0m\n\u001b[1;32m   2012\u001b[0m     \u001b[0;31m# Convert to ValueError for backwards compatibility.\u001b[0m\u001b[0;34m\u001b[0m\u001b[0;34m\u001b[0m\u001b[0;34m\u001b[0m\u001b[0m\n\u001b[0;32m-> 2013\u001b[0;31m     \u001b[0;32mraise\u001b[0m \u001b[0mValueError\u001b[0m\u001b[0;34m(\u001b[0m\u001b[0me\u001b[0m\u001b[0;34m.\u001b[0m\u001b[0mmessage\u001b[0m\u001b[0;34m)\u001b[0m\u001b[0;34m\u001b[0m\u001b[0;34m\u001b[0m\u001b[0m\n\u001b[0m\u001b[1;32m   2014\u001b[0m \u001b[0;34m\u001b[0m\u001b[0m\n\u001b[1;32m   2015\u001b[0m   \u001b[0;32mreturn\u001b[0m \u001b[0mc_op\u001b[0m\u001b[0;34m\u001b[0m\u001b[0;34m\u001b[0m\u001b[0m\n",
            "\u001b[0;31mValueError\u001b[0m: Exception encountered when calling layer \"max_pooling2d_14\" (type MaxPooling2D).\n\nNegative dimension size caused by subtracting 2 from 1 for '{{node max_pooling2d_14/MaxPool}} = MaxPool[T=DT_FLOAT, data_format=\"NHWC\", explicit_paddings=[], ksize=[1, 2, 2, 1], padding=\"VALID\", strides=[1, 2, 2, 1]](Placeholder)' with input shapes: [?,1,1,512].\n\nCall arguments received:\n  • inputs=tf.Tensor(shape=(None, 1, 1, 512), dtype=float32)"
          ]
        }
      ],
      "source": [
        "model = Sequential ()\n",
        "\n",
        "# 4 Conv with Maxpool and Dropout [25%] -> Flatten - >  Dense -> Dense -> output \n",
        "model.add(Conv2D(filters = 32 , kernel_size = (3,3),input_shape = (Length, Height, RGB), padding = 'same',))\n",
        "model.add(BatchNormalization())\n",
        "model.add(tf.keras.layers.Activation('relu'))\n",
        "model.add(MaxPool2D(pool_size = (2,2)))\n",
        "model.add(Dropout(0.15))\n",
        "\n",
        "model.add(Conv2D(filters = 64 , kernel_size = (3,3) ,padding = 'same'))\n",
        "model.add(BatchNormalization())\n",
        "model.add(tf.keras.layers.Activation('relu'))\n",
        "model.add(MaxPool2D(pool_size = (2,2)))\n",
        "model.add(Dropout(0.15))\n",
        "\n",
        "model.add(Conv2D(filters = 128 , kernel_size = (3,3) ,padding = 'same'))\n",
        "model.add(BatchNormalization())\n",
        "model.add(tf.keras.layers.Activation('relu'))\n",
        "model.add(MaxPool2D(pool_size = (2,2)))\n",
        "model.add(Dropout(0.15))\n",
        "\n",
        "model.add(Conv2D(filters = 256 , kernel_size = (3,3) ,padding = 'same'))\n",
        "model.add(BatchNormalization())\n",
        "model.add(tf.keras.layers.Activation('relu'))\n",
        "model.add(MaxPool2D(pool_size = (2,2)))\n",
        "model.add(Dropout(0.15))\n",
        "\n",
        "\n",
        "model.add(Conv2D(filters = 512 , kernel_size = (3,3) ,padding = 'same'))\n",
        "model.add(BatchNormalization())\n",
        "model.add(tf.keras.layers.Activation('relu'))\n",
        "model.add(MaxPool2D(pool_size = (2,2)))\n",
        "model.add(Dropout(0.15))\n",
        "\n",
        "model.add(Flatten())\n",
        "model.add(Dense(350))\n",
        "model.add(BatchNormalization())\n",
        "model.add(tf.keras.layers.Activation('relu'))\n",
        "model.add(Dropout(0.25))\n",
        "model.add(Dense(NCl, activation = 'softmax'))\n",
        "model.summary()"
      ]
    },
    {
      "cell_type": "code",
      "execution_count": 37,
      "id": "a1ccc6a6",
      "metadata": {
        "execution": {
          "iopub.execute_input": "2022-03-06T04:54:05.093503Z",
          "iopub.status.busy": "2022-03-06T04:54:05.092705Z",
          "iopub.status.idle": "2022-03-06T04:54:05.099261Z",
          "shell.execute_reply": "2022-03-06T04:54:05.098472Z"
        },
        "papermill": {
          "duration": 0.041827,
          "end_time": "2022-03-06T04:54:05.099385",
          "exception": false,
          "start_time": "2022-03-06T04:54:05.057558",
          "status": "completed"
        },
        "tags": [],
        "id": "a1ccc6a6",
        "colab": {
          "base_uri": "https://localhost:8080/",
          "height": 240
        },
        "outputId": "1955944e-bcbc-4546-96a1-718faa1ad055"
      },
      "outputs": [
        {
          "output_type": "error",
          "ename": "NameError",
          "evalue": "ignored",
          "traceback": [
            "\u001b[0;31m---------------------------------------------------------------------------\u001b[0m",
            "\u001b[0;31mNameError\u001b[0m                                 Traceback (most recent call last)",
            "\u001b[0;32m<ipython-input-37-b6ce9ec87020>\u001b[0m in \u001b[0;36m<module>\u001b[0;34m()\u001b[0m\n\u001b[1;32m      1\u001b[0m \u001b[0;31m#defining parameters for training\u001b[0m\u001b[0;34m\u001b[0m\u001b[0;34m\u001b[0m\u001b[0;34m\u001b[0m\u001b[0m\n\u001b[0;32m----> 2\u001b[0;31m \u001b[0moptimizer\u001b[0m  \u001b[0;34m=\u001b[0m \u001b[0mAdam\u001b[0m\u001b[0;34m(\u001b[0m\u001b[0mlearning_rate\u001b[0m\u001b[0;34m=\u001b[0m\u001b[0;36m0.01\u001b[0m\u001b[0;34m)\u001b[0m\u001b[0;34m\u001b[0m\u001b[0;34m\u001b[0m\u001b[0m\n\u001b[0m\u001b[1;32m      3\u001b[0m \u001b[0mcallback\u001b[0m \u001b[0;34m=\u001b[0m\u001b[0mEarlyStopping\u001b[0m\u001b[0;34m(\u001b[0m\u001b[0mmonitor\u001b[0m\u001b[0;34m=\u001b[0m\u001b[0;34m'loss'\u001b[0m\u001b[0;34m,\u001b[0m \u001b[0mpatience\u001b[0m\u001b[0;34m=\u001b[0m\u001b[0;36m5\u001b[0m\u001b[0;34m)\u001b[0m\u001b[0;34m\u001b[0m\u001b[0;34m\u001b[0m\u001b[0m\n\u001b[1;32m      4\u001b[0m \u001b[0mBatch_\u001b[0m \u001b[0;34m=\u001b[0m \u001b[0;36m50\u001b[0m\u001b[0;34m\u001b[0m\u001b[0;34m\u001b[0m\u001b[0m\n\u001b[1;32m      5\u001b[0m \u001b[0mEpochs_\u001b[0m \u001b[0;34m=\u001b[0m \u001b[0;36m20\u001b[0m\u001b[0;34m\u001b[0m\u001b[0;34m\u001b[0m\u001b[0m\n",
            "\u001b[0;31mNameError\u001b[0m: name 'Adam' is not defined"
          ]
        }
      ],
      "source": [
        "#defining parameters for training\n",
        "optimizer  = Adam(learning_rate=0.01)\n",
        "callback =EarlyStopping(monitor='loss', patience=5)\n",
        "Batch_ = 50\n",
        "Epochs_ = 20\n",
        "\n",
        "model.compile(loss = 'categorical_crossentropy', optimizer = optimizer, metrics = ['accuracy'])\n"
      ]
    },
    {
      "cell_type": "markdown",
      "id": "30d6eb08",
      "metadata": {
        "papermill": {
          "duration": 0.026383,
          "end_time": "2022-03-06T04:54:05.152520",
          "exception": false,
          "start_time": "2022-03-06T04:54:05.126137",
          "status": "completed"
        },
        "tags": [],
        "id": "30d6eb08"
      },
      "source": [
        "<h6 style='text-align:center;font-family:Comic Sans MS;font-size:40px;background-color:lightseagreen;border:20px;color:white'>Training the model</h6>"
      ]
    },
    {
      "cell_type": "code",
      "execution_count": 38,
      "id": "8b8a5a0c",
      "metadata": {
        "execution": {
          "iopub.execute_input": "2022-03-06T04:54:05.210424Z",
          "iopub.status.busy": "2022-03-06T04:54:05.209578Z",
          "iopub.status.idle": "2022-03-06T05:31:29.912474Z",
          "shell.execute_reply": "2022-03-06T05:31:29.911983Z"
        },
        "papermill": {
          "duration": 2244.733571,
          "end_time": "2022-03-06T05:31:29.912640",
          "exception": false,
          "start_time": "2022-03-06T04:54:05.179069",
          "status": "completed"
        },
        "tags": [],
        "colab": {
          "base_uri": "https://localhost:8080/",
          "height": 204
        },
        "id": "8b8a5a0c",
        "outputId": "cc273d90-e4be-4170-8f89-832da29398b0"
      },
      "outputs": [
        {
          "output_type": "error",
          "ename": "NameError",
          "evalue": "ignored",
          "traceback": [
            "\u001b[0;31m---------------------------------------------------------------------------\u001b[0m",
            "\u001b[0;31mNameError\u001b[0m                                 Traceback (most recent call last)",
            "\u001b[0;32m<ipython-input-38-1ac25997008b>\u001b[0m in \u001b[0;36m<module>\u001b[0;34m()\u001b[0m\n\u001b[1;32m      1\u001b[0m \u001b[0;31m#Training\u001b[0m\u001b[0;34m\u001b[0m\u001b[0;34m\u001b[0m\u001b[0;34m\u001b[0m\u001b[0m\n\u001b[0;32m----> 2\u001b[0;31m history= model.fit(X_train,y_train, validation_data = (X_test,y_test),batch_size = Batch_ ,\n\u001b[0m\u001b[1;32m      3\u001b[0m                    epochs = Epochs_, verbose = 1)\n",
            "\u001b[0;31mNameError\u001b[0m: name 'model' is not defined"
          ]
        }
      ],
      "source": [
        "#Training\n",
        "history= model.fit(X_train,y_train, validation_data = (X_test,y_test),batch_size = Batch_ ,\n",
        "                   epochs = Epochs_, verbose = 1)"
      ]
    },
    {
      "cell_type": "markdown",
      "id": "d807a41c",
      "metadata": {
        "papermill": {
          "duration": 12.237695,
          "end_time": "2022-03-06T05:31:53.934650",
          "exception": false,
          "start_time": "2022-03-06T05:31:41.696955",
          "status": "completed"
        },
        "tags": [],
        "id": "d807a41c"
      },
      "source": [
        "<h6 style='text-align:center;font-family:Comic Sans MS;font-size:40px;background-color:lightseagreen;border:20px;color:white'>Evaluating the model</h6>"
      ]
    },
    {
      "cell_type": "code",
      "execution_count": null,
      "id": "2afeb7cd",
      "metadata": {
        "execution": {
          "iopub.execute_input": "2022-03-06T05:32:17.440448Z",
          "iopub.status.busy": "2022-03-06T05:32:17.439635Z",
          "iopub.status.idle": "2022-03-06T05:32:19.949213Z",
          "shell.execute_reply": "2022-03-06T05:32:19.949976Z"
        },
        "papermill": {
          "duration": 14.21982,
          "end_time": "2022-03-06T05:32:19.950186",
          "exception": false,
          "start_time": "2022-03-06T05:32:05.730366",
          "status": "completed"
        },
        "tags": [],
        "colab": {
          "base_uri": "https://localhost:8080/"
        },
        "id": "2afeb7cd",
        "outputId": "ee340c70-f1e2-45f0-a12c-26f9c7ffe44d"
      },
      "outputs": [
        {
          "output_type": "stream",
          "name": "stdout",
          "text": [
            "Test Accuracy:93.66%\n"
          ]
        }
      ],
      "source": [
        "#Evaluating model accuracy on test data\n",
        "score = model.evaluate(X_test,y_test, batch_size = Batch_,verbose = 0)\n",
        "print(f\"Test Accuracy:{round(score[1],4)*100}%\")\n"
      ]
    },
    {
      "cell_type": "markdown",
      "id": "ab57cb12",
      "metadata": {
        "papermill": {
          "duration": 11.926426,
          "end_time": "2022-03-06T05:32:44.124720",
          "exception": false,
          "start_time": "2022-03-06T05:32:32.198294",
          "status": "completed"
        },
        "tags": [],
        "id": "ab57cb12"
      },
      "source": [
        "<h2 style='text-align:center;font-family:Comic Sans MS;font-size:40px;background-color:lightseagreen;border:20px;color:white'>Visalizing the model performance</h2>"
      ]
    },
    {
      "cell_type": "code",
      "execution_count": null,
      "id": "5e02c037",
      "metadata": {
        "execution": {
          "iopub.execute_input": "2022-03-06T05:33:08.422997Z",
          "iopub.status.busy": "2022-03-06T05:33:08.422188Z",
          "iopub.status.idle": "2022-03-06T05:33:08.424842Z",
          "shell.execute_reply": "2022-03-06T05:33:08.424332Z"
        },
        "papermill": {
          "duration": 11.771858,
          "end_time": "2022-03-06T05:33:08.424963",
          "exception": false,
          "start_time": "2022-03-06T05:32:56.653105",
          "status": "completed"
        },
        "tags": [],
        "id": "5e02c037"
      },
      "outputs": [],
      "source": [
        "# Function for Plotting\n",
        "def Plott (data):\n",
        "    fig, ax = plt.subplots(1,2 , figsize = (20,7))\n",
        "    # summarize history for accuracy\n",
        "    ax[0].plot(data.history['accuracy'])\n",
        "    ax[0].plot(data.history['val_accuracy'])\n",
        "    ax[0].set_title('model accuracy')\n",
        "    ax[0].legend(['train', 'test'], loc='upper left')\n",
        "\n",
        "    # summarize history for loss\n",
        "    ax[1].plot(data.history['loss'], label =['loss'])\n",
        "    ax[1].plot(data.history['val_loss'] ,label =['val_loss'])\n",
        "    ax[1].set_title('model loss')\n",
        "    ax[1].legend(['train', 'test'], loc='upper left')\n",
        "    plt.show()"
      ]
    },
    {
      "cell_type": "code",
      "execution_count": null,
      "id": "34790b7a",
      "metadata": {
        "execution": {
          "iopub.execute_input": "2022-03-06T05:33:32.535136Z",
          "iopub.status.busy": "2022-03-06T05:33:32.534290Z",
          "iopub.status.idle": "2022-03-06T05:33:32.825746Z",
          "shell.execute_reply": "2022-03-06T05:33:32.825293Z"
        },
        "papermill": {
          "duration": 12.446351,
          "end_time": "2022-03-06T05:33:32.825875",
          "exception": false,
          "start_time": "2022-03-06T05:33:20.379524",
          "status": "completed"
        },
        "tags": [],
        "colab": {
          "base_uri": "https://localhost:8080/",
          "height": 444
        },
        "id": "34790b7a",
        "outputId": "53265cd0-9c48-4075-c227-1657e3f987ad"
      },
      "outputs": [
        {
          "output_type": "display_data",
          "data": {
            "text/plain": [
              "<Figure size 1440x504 with 2 Axes>"
            ],
            "image/png": "[encoded data removed]"
          },
          "metadata": {
            "needs_background": "light"
          }
        }
      ],
      "source": [
        "Plott(history)"
      ]
    },
    {
      "cell_type": "markdown",
      "id": "77ac072b",
      "metadata": {
        "papermill": {
          "duration": 11.699567,
          "end_time": "2022-03-06T05:33:56.398409",
          "exception": false,
          "start_time": "2022-03-06T05:33:44.698842",
          "status": "completed"
        },
        "tags": [],
        "id": "77ac072b"
      },
      "source": [
        "<h2 style='text-align:center;font-family:Comic Sans MS;font-size:40px;background-color:lightseagreen;border:20px;color:white'>Making Final Predictions</h2>"
      ]
    },
    {
      "cell_type": "code",
      "execution_count": null,
      "id": "a6327b6b",
      "metadata": {
        "execution": {
          "iopub.execute_input": "2022-03-06T05:34:20.344784Z",
          "iopub.status.busy": "2022-03-06T05:34:20.343834Z",
          "iopub.status.idle": "2022-03-06T05:34:21.669076Z",
          "shell.execute_reply": "2022-03-06T05:34:21.669464Z"
        },
        "papermill": {
          "duration": 13.074396,
          "end_time": "2022-03-06T05:34:21.669640",
          "exception": false,
          "start_time": "2022-03-06T05:34:08.595244",
          "status": "completed"
        },
        "tags": [],
        "colab": {
          "base_uri": "https://localhost:8080/",
          "height": 541
        },
        "id": "a6327b6b",
        "outputId": "9d342fb2-2226-4369-c173-ff20d06c6d51"
      },
      "outputs": [
        {
          "output_type": "display_data",
          "data": {
            "text/plain": [
              "<Figure size 576x648 with 9 Axes>"
            ],
            "image/png": "[encoded data removed]"
          },
          "metadata": {
            "needs_background": "light"
          }
        }
      ],
      "source": [
        "#predicting the charecters using trained model\n",
        "fig, axes = plt.subplots(3,3, figsize=(8,9))\n",
        "axes = axes.flatten()\n",
        "\n",
        "for i,ax in enumerate(axes):\n",
        "    img = np.reshape(X_test[i], (28,28)) # reshaping it for displaying\n",
        "    ax.imshow(img, cmap=\"Greys\")\n",
        "    img_final =np.reshape(img, (1,28,28,1)) # reshapng it for passing into model for prediction\n",
        "    pred = label_dict_inv[np.argmax(model.predict(img_final))]\n",
        "    ax.set_title(\"Prediction: \"+pred)\n",
        "    ax.grid()"
      ]
    },
    {
      "cell_type": "markdown",
      "id": "c57edcff",
      "metadata": {
        "papermill": {
          "duration": 12.00449,
          "end_time": "2022-03-06T05:34:46.062271",
          "exception": false,
          "start_time": "2022-03-06T05:34:34.057781",
          "status": "completed"
        },
        "tags": [],
        "id": "c57edcff"
      },
      "source": [
        "<h2 style='text-align:center;font-family:Comic Sans MS;font-size:40px;background-color:lightseagreen;border:20px;color:white'>Conclusion</h2>\n",
        "1. The model performed good and was able to predict with 100% accuracy (9 out of 9 predictions are correct)<br>\n",
        "2. The accuracy on test test is 94.17% which is pretty decent for a simple CNN\n"
      ]
    },
    {
      "cell_type": "code",
      "execution_count": null,
      "id": "34393f5c",
      "metadata": {
        "papermill": {
          "duration": 12.177668,
          "end_time": "2022-03-06T05:35:10.171008",
          "exception": false,
          "start_time": "2022-03-06T05:34:57.993340",
          "status": "completed"
        },
        "tags": [],
        "id": "34393f5c"
      },
      "outputs": [],
      "source": [
        ""
      ]
    }
  ],
  "metadata": {
    "kernelspec": {
      "display_name": "Python 3",
      "language": "python",
      "name": "python3"
    },
    "language_info": {
      "codemirror_mode": {
        "name": "ipython",
        "version": 3
      },
      "file_extension": ".py",
      "mimetype": "text/x-python",
      "name": "python",
      "nbconvert_exporter": "python",
      "pygments_lexer": "ipython3",
      "version": "3.7.12"
    },
    "papermill": {
      "default_parameters": {},
      "duration": 2535.709702,
      "end_time": "2022-03-06T05:35:25.210800",
      "environment_variables": {},
      "exception": null,
      "input_path": "__notebook__.ipynb",
      "output_path": "__notebook__.ipynb",
      "parameters": {},
      "start_time": "2022-03-06T04:53:09.501098",
      "version": "2.3.3"
    },
    "colab": {
      "name": "Saad_Ghojaria_Neural Network Type Classification",
      "provenance": [],
      "include_colab_link": true
    },
    "accelerator": "GPU"
  },
  "nbformat": 4,
  "nbformat_minor": 5
}