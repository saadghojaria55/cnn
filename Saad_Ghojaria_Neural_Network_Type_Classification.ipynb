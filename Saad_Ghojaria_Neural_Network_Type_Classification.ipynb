{
  "cells": [
    {
      "cell_type": "markdown",
      "metadata": {
        "id": "view-in-github",
        "colab_type": "text"
      },
      "source": [
        "<a href=\"https://colab.research.google.com/github/saadghojaria55/cnn/blob/main/Saad_Ghojaria_Neural_Network_Type_Classification.ipynb\" target=\"_parent\"><img src=\"https://colab.research.google.com/assets/colab-badge.svg\" alt=\"Open In Colab\"/></a>"
      ]
    },
    {
      "cell_type": "markdown",
      "id": "52d43022",
      "metadata": {
        "papermill": {
          "duration": 0.022305,
          "end_time": "2022-03-06T04:53:17.286451",
          "exception": false,
          "start_time": "2022-03-06T04:53:17.264146",
          "status": "completed"
        },
        "tags": [],
        "id": "52d43022"
      },
      "source": [
        "## Abstract\n",
        "The purpose of this notebook is to perform charecter recognition on TMINST (94 charecter) dataset. We used a simple CNN network to perform the charecter recognition. "
      ]
    },
    {
      "cell_type": "markdown",
      "id": "904c4a77",
      "metadata": {
        "papermill": {
          "duration": 0.020767,
          "end_time": "2022-03-06T04:53:17.330198",
          "exception": false,
          "start_time": "2022-03-06T04:53:17.309431",
          "status": "completed"
        },
        "tags": [],
        "id": "904c4a77"
      },
      "source": [
        "##Importing Libraries and Fuctions"
      ]
    },
    {
      "cell_type": "code",
      "execution_count": 1,
      "id": "2402e4c0",
      "metadata": {
        "_cell_guid": "b1076dfc-b9ad-4769-8c92-a6c4dae69d19",
        "_kg_hide-input": true,
        "_uuid": "8f2839f25d086af736a60e9eeb907d3b93b6e0e5",
        "execution": {
          "iopub.execute_input": "2022-03-06T04:53:17.382635Z",
          "iopub.status.busy": "2022-03-06T04:53:17.381873Z",
          "iopub.status.idle": "2022-03-06T04:53:23.069689Z",
          "shell.execute_reply": "2022-03-06T04:53:23.070228Z"
        },
        "papermill": {
          "duration": 5.71917,
          "end_time": "2022-03-06T04:53:23.070491",
          "exception": false,
          "start_time": "2022-03-06T04:53:17.351321",
          "status": "completed"
        },
        "tags": [],
        "id": "2402e4c0"
      },
      "outputs": [],
      "source": [
        "import numpy as np \n",
        "import pandas as pd \n",
        "import re\n",
        "\n",
        "from sklearn.model_selection import train_test_split\n",
        "from sklearn.utils import shuffle\n",
        "\n",
        "import tensorflow as tf \n",
        "from tensorflow.keras.utils import to_categorical\n",
        "\n",
        "\n",
        "import matplotlib.pyplot as plt\n",
        "import warnings\n",
        "warnings.filterwarnings('ignore')\n",
        "%matplotlib inline\n",
        "\n",
        "from google.colab import drive"
      ]
    },
    {
      "cell_type": "markdown",
      "id": "07f4a1b2",
      "metadata": {
        "papermill": {
          "duration": 0.021183,
          "end_time": "2022-03-06T04:53:23.114124",
          "exception": false,
          "start_time": "2022-03-06T04:53:23.092941",
          "status": "completed"
        },
        "tags": [],
        "id": "07f4a1b2"
      },
      "source": [
        "## Reading Data\n"
      ]
    },
    {
      "cell_type": "code",
      "execution_count": 2,
      "id": "c8c42339",
      "metadata": {
        "execution": {
          "iopub.execute_input": "2022-03-06T04:53:23.160872Z",
          "iopub.status.busy": "2022-03-06T04:53:23.160299Z",
          "iopub.status.idle": "2022-03-06T04:53:57.010032Z",
          "shell.execute_reply": "2022-03-06T04:53:57.010433Z"
        },
        "papermill": {
          "duration": 33.875294,
          "end_time": "2022-03-06T04:53:57.010593",
          "exception": false,
          "start_time": "2022-03-06T04:53:23.135299",
          "status": "completed"
        },
        "tags": [],
        "colab": {
          "base_uri": "https://localhost:8080/"
        },
        "id": "c8c42339",
        "outputId": "f23166ba-a46b-419c-d927-8e8e480e0e69"
      },
      "outputs": [
        {
          "output_type": "stream",
          "name": "stdout",
          "text": [
            "Drive already mounted at /content/drive; to attempt to forcibly remount, call drive.mount(\"/content/drive\", force_remount=True).\n"
          ]
        }
      ],
      "source": [
        "# Reading Data\n",
        "url = \"/content/drive/MyDrive/94_character_TMNIST.csv\"\n",
        "#df = h2o.import_file(path = url)\n",
        "drive.mount('/content/drive')\n",
        "\n",
        "df = pd.read_csv(url)"
      ]
    },
    {
      "cell_type": "code",
      "source": [
        "df.head()"
      ],
      "metadata": {
        "id": "Vl7wUK6lzlAN"
      },
      "id": "Vl7wUK6lzlAN",
      "execution_count": null,
      "outputs": []
    },
    {
      "cell_type": "code",
      "source": [
        "df.describe()"
      ],
      "metadata": {
        "id": "3KojbU_tzm1G"
      },
      "id": "3KojbU_tzm1G",
      "execution_count": null,
      "outputs": []
    },
    {
      "cell_type": "markdown",
      "source": [
        "Now lets dive into data : We have 2990 font-styles "
      ],
      "metadata": {
        "id": "KNJhDf_TzxkC"
      },
      "id": "KNJhDf_TzxkC"
    },
    {
      "cell_type": "code",
      "source": [
        "names_of_font=df['names'].unique()\n",
        "print(names_of_font)\n",
        "\n",
        "count_of_font=df['names'].nunique()\n",
        "print(count_of_font)"
      ],
      "metadata": {
        "id": "WRumGvv3zoX2"
      },
      "id": "WRumGvv3zoX2",
      "execution_count": null,
      "outputs": []
    },
    {
      "cell_type": "markdown",
      "source": [
        "We have 94 characters, now lets see what kind of characters we have"
      ],
      "metadata": {
        "id": "dhDU2GMlzuKk"
      },
      "id": "dhDU2GMlzuKk"
    },
    {
      "cell_type": "code",
      "source": [
        "characters_count=df['labels'].nunique()\n",
        "print(characters_count)"
      ],
      "metadata": {
        "id": "GxjNK9gGzsHv"
      },
      "id": "GxjNK9gGzsHv",
      "execution_count": null,
      "outputs": []
    },
    {
      "cell_type": "markdown",
      "id": "ee2102a9",
      "metadata": {
        "papermill": {
          "duration": 0.022392,
          "end_time": "2022-03-06T04:53:57.055316",
          "exception": false,
          "start_time": "2022-03-06T04:53:57.032924",
          "status": "completed"
        },
        "tags": [],
        "id": "ee2102a9"
      },
      "source": [
        "## Data Pre Porcessing :\n",
        "\n",
        "We will need this splitting in order to correctly label the predictions\n",
        "\n",
        "Step 1 : Defining types of data labels that can be present  <br>\n",
        "1.   Alphabets \n",
        "2.   Numbers\n",
        "3.   Symbols\n",
        "\n",
        "Step 2 : Get the regex for each type of data labels \n",
        "\n",
        "Step 3 : Creating Groups for each of them\n"
      ]
    },
    {
      "cell_type": "code",
      "execution_count": 3,
      "id": "be1c05d7",
      "metadata": {
        "execution": {
          "iopub.execute_input": "2022-03-06T04:53:57.123544Z",
          "iopub.status.busy": "2022-03-06T04:53:57.110386Z",
          "iopub.status.idle": "2022-03-06T04:53:57.229361Z",
          "shell.execute_reply": "2022-03-06T04:53:57.228875Z"
        },
        "papermill": {
          "duration": 0.152065,
          "end_time": "2022-03-06T04:53:57.229484",
          "exception": false,
          "start_time": "2022-03-06T04:53:57.077419",
          "status": "completed"
        },
        "tags": [],
        "colab": {
          "base_uri": "https://localhost:8080/"
        },
        "id": "be1c05d7",
        "outputId": "85431932-77dc-4271-a232-ecb17781a7ff"
      },
      "outputs": [
        {
          "output_type": "stream",
          "name": "stdout",
          "text": [
            "No of Categories: 4\n"
          ]
        }
      ],
      "source": [
        "# Grouping All labels\n",
        "all_ = list(df['labels'].unique())\n",
        "\n",
        "# Regex Pattern to check alphabets, digits and special symbols\n",
        "pattern_uc = re.compile(r\"[A-Z]\") #regex for capital alphabets\n",
        "pattern_lc = re.compile(r\"[a-z]\")  #regex for small alphabets\n",
        "pattern_numbers = re.compile(r\"[0-9]\")  #regex for numbers\n",
        "pattern_symbols = re.compile(r\"[\\W]|[\\_\\,]\")  #regex for Special Characters\n",
        "\n",
        "\n",
        "# Extracting Pattern\n",
        "lower_case = pattern_lc.findall(str(all_))\n",
        "Upper_case = pattern_uc.findall(str(all_))\n",
        "Numbers_ = pattern_numbers.findall(str(all_))\n",
        "Symbols_ = list(set(pattern_symbols.findall(str(all_))))\n",
        "\n",
        "\n",
        "# Creating Gropus\n",
        "group = 1\n",
        "for list_ in (lower_case,Upper_case,Numbers_,Symbols_):\n",
        "    df.loc[df['labels'].isin(list_), 'group'] = str(group)\n",
        "    group += 1\n",
        "    #print(list_)\n",
        "print(\"No of Categories:\",group-1)\n"
      ]
    },
    {
      "cell_type": "code",
      "execution_count": 4,
      "id": "0ad84bab",
      "metadata": {
        "_kg_hide-input": true,
        "execution": {
          "iopub.execute_input": "2022-03-06T04:53:57.778214Z",
          "iopub.status.busy": "2022-03-06T04:53:57.776815Z",
          "iopub.status.idle": "2022-03-06T04:53:58.119241Z",
          "shell.execute_reply": "2022-03-06T04:53:58.118764Z"
        },
        "papermill": {
          "duration": 0.867353,
          "end_time": "2022-03-06T04:53:58.119368",
          "exception": false,
          "start_time": "2022-03-06T04:53:57.252015",
          "status": "completed"
        },
        "tags": [],
        "id": "0ad84bab"
      },
      "outputs": [],
      "source": [
        "# defining X and y for training\n",
        "X = df.iloc[:, 2:-1].astype('float32') \n",
        "y  = df[['labels']] "
      ]
    },
    {
      "cell_type": "code",
      "execution_count": 5,
      "id": "c195f464",
      "metadata": {
        "_kg_hide-input": true,
        "execution": {
          "iopub.execute_input": "2022-03-06T04:53:58.182708Z",
          "iopub.status.busy": "2022-03-06T04:53:58.181946Z",
          "iopub.status.idle": "2022-03-06T04:53:58.203261Z",
          "shell.execute_reply": "2022-03-06T04:53:58.202837Z"
        },
        "papermill": {
          "duration": 0.060987,
          "end_time": "2022-03-06T04:53:58.203366",
          "exception": false,
          "start_time": "2022-03-06T04:53:58.142379",
          "status": "completed"
        },
        "tags": [],
        "id": "c195f464"
      },
      "outputs": [],
      "source": [
        "#preping the data to create dictionary\n",
        "labels = y['labels'].unique()\n",
        "values = [num for num in range(len(df['labels'].unique()))]\n",
        "label_dict= dict(zip(labels,values)) #Creating Dictionary \n",
        "label_dict_inv = dict(zip(values,labels))"
      ]
    },
    {
      "cell_type": "code",
      "execution_count": 6,
      "id": "963644b7",
      "metadata": {
        "_kg_hide-input": true,
        "execution": {
          "iopub.execute_input": "2022-03-06T04:53:58.281555Z",
          "iopub.status.busy": "2022-03-06T04:53:58.280219Z",
          "iopub.status.idle": "2022-03-06T04:53:59.545730Z",
          "shell.execute_reply": "2022-03-06T04:53:59.545206Z"
        },
        "papermill": {
          "duration": 1.319838,
          "end_time": "2022-03-06T04:53:59.545866",
          "exception": false,
          "start_time": "2022-03-06T04:53:58.226028",
          "status": "completed"
        },
        "tags": [],
        "id": "963644b7"
      },
      "outputs": [],
      "source": [
        "# Mapping\n",
        "y['labels'].replace(label_dict, inplace=True) #Maping Values"
      ]
    },
    {
      "cell_type": "code",
      "execution_count": 7,
      "id": "a9ed8fa3",
      "metadata": {
        "execution": {
          "iopub.execute_input": "2022-03-06T04:53:59.596240Z",
          "iopub.status.busy": "2022-03-06T04:53:59.595703Z",
          "iopub.status.idle": "2022-03-06T04:53:59.598713Z",
          "shell.execute_reply": "2022-03-06T04:53:59.599118Z"
        },
        "papermill": {
          "duration": 0.030116,
          "end_time": "2022-03-06T04:53:59.599238",
          "exception": false,
          "start_time": "2022-03-06T04:53:59.569122",
          "status": "completed"
        },
        "tags": [],
        "colab": {
          "base_uri": "https://localhost:8080/"
        },
        "id": "a9ed8fa3",
        "outputId": "c422deb6-7185-4493-ebfa-ac367dd00b5b"
      },
      "outputs": [
        {
          "output_type": "stream",
          "name": "stdout",
          "text": [
            "{'6': 0, 'D': 1, 'f': 2, '/': 3, 'F': 4, 'x': 5, 'J': 6, '8': 7, 'H': 8, 'k': 9, '@': 10, '1': 11, '=': 12, 'g': 13, ')': 14, '2': 15, 'd': 16, '^': 17, '3': 18, 't': 19, '#': 20, '.': 21, '4': 22, 'o': 23, '\"': 24, 'y': 25, 'A': 26, 'u': 27, 'G': 28, '-': 29, 'm': 30, 'W': 31, '&': 32, 'c': 33, '9': 34, 'N': 35, ']': 36, 'P': 37, 'X': 38, '|': 39, '}': 40, 'h': 41, '7': 42, 'j': 43, '5': 44, '>': 45, '?': 46, 'b': 47, '*': 48, 'w': 49, 'l': 50, '0': 51, '$': 52, 'I': 53, 'Y': 54, '%': 55, ':': 56, 'T': 57, 'K': 58, 'E': 59, '<': 60, 'V': 61, '{': 62, 'M': 63, 'S': 64, 'a': 65, 'i': 66, 'r': 67, \"'\": 68, 'p': 69, ';': 70, '[': 71, '+': 72, 'e': 73, 'U': 74, '(': 75, 's': 76, '~': 77, ',': 78, 'C': 79, 'q': 80, '_': 81, 'n': 82, 'B': 83, 'z': 84, 'v': 85, 'O': 86, 'R': 87, '`': 88, 'Z': 89, 'Q': 90, 'L': 91, '!': 92, '\\\\': 93}\n",
            "{0: '6', 1: 'D', 2: 'f', 3: '/', 4: 'F', 5: 'x', 6: 'J', 7: '8', 8: 'H', 9: 'k', 10: '@', 11: '1', 12: '=', 13: 'g', 14: ')', 15: '2', 16: 'd', 17: '^', 18: '3', 19: 't', 20: '#', 21: '.', 22: '4', 23: 'o', 24: '\"', 25: 'y', 26: 'A', 27: 'u', 28: 'G', 29: '-', 30: 'm', 31: 'W', 32: '&', 33: 'c', 34: '9', 35: 'N', 36: ']', 37: 'P', 38: 'X', 39: '|', 40: '}', 41: 'h', 42: '7', 43: 'j', 44: '5', 45: '>', 46: '?', 47: 'b', 48: '*', 49: 'w', 50: 'l', 51: '0', 52: '$', 53: 'I', 54: 'Y', 55: '%', 56: ':', 57: 'T', 58: 'K', 59: 'E', 60: '<', 61: 'V', 62: '{', 63: 'M', 64: 'S', 65: 'a', 66: 'i', 67: 'r', 68: \"'\", 69: 'p', 70: ';', 71: '[', 72: '+', 73: 'e', 74: 'U', 75: '(', 76: 's', 77: '~', 78: ',', 79: 'C', 80: 'q', 81: '_', 82: 'n', 83: 'B', 84: 'z', 85: 'v', 86: 'O', 87: 'R', 88: '`', 89: 'Z', 90: 'Q', 91: 'L', 92: '!', 93: '\\\\'}\n"
          ]
        }
      ],
      "source": [
        "#Checking the mappings\n",
        "print(label_dict)\n",
        "print(label_dict_inv)"
      ]
    },
    {
      "cell_type": "markdown",
      "id": "2dae0284",
      "metadata": {
        "execution": {
          "iopub.execute_input": "2021-09-07T01:56:11.33205Z",
          "iopub.status.busy": "2021-09-07T01:56:11.331636Z",
          "iopub.status.idle": "2021-09-07T01:56:11.336283Z",
          "shell.execute_reply": "2021-09-07T01:56:11.335595Z",
          "shell.execute_reply.started": "2021-09-07T01:56:11.332015Z"
        },
        "papermill": {
          "duration": 0.023011,
          "end_time": "2022-03-06T04:53:59.645307",
          "exception": false,
          "start_time": "2022-03-06T04:53:59.622296",
          "status": "completed"
        },
        "tags": [],
        "id": "2dae0284"
      },
      "source": [
        "## Splitting Dataset "
      ]
    },
    {
      "cell_type": "code",
      "execution_count": 8,
      "id": "f958a33b",
      "metadata": {
        "_kg_hide-input": true,
        "execution": {
          "iopub.execute_input": "2022-03-06T04:53:59.699226Z",
          "iopub.status.busy": "2022-03-06T04:53:59.698502Z",
          "iopub.status.idle": "2022-03-06T04:54:00.705073Z",
          "shell.execute_reply": "2022-03-06T04:54:00.704447Z"
        },
        "papermill": {
          "duration": 1.036763,
          "end_time": "2022-03-06T04:54:00.705214",
          "exception": false,
          "start_time": "2022-03-06T04:53:59.668451",
          "status": "completed"
        },
        "tags": [],
        "id": "f958a33b"
      },
      "outputs": [],
      "source": [
        "# creating test train split of 80% and 20%\n",
        "X_train, X_test, y_train, y_test = train_test_split(X, y, test_size = 0.2)"
      ]
    },
    {
      "cell_type": "code",
      "execution_count": 9,
      "id": "927eb150",
      "metadata": {
        "_kg_hide-input": true,
        "execution": {
          "iopub.execute_input": "2022-03-06T04:54:00.758857Z",
          "iopub.status.busy": "2022-03-06T04:54:00.758055Z",
          "iopub.status.idle": "2022-03-06T04:54:00.800114Z",
          "shell.execute_reply": "2022-03-06T04:54:00.799686Z"
        },
        "papermill": {
          "duration": 0.071473,
          "end_time": "2022-03-06T04:54:00.800233",
          "exception": false,
          "start_time": "2022-03-06T04:54:00.728760",
          "status": "completed"
        },
        "tags": [],
        "colab": {
          "base_uri": "https://localhost:8080/"
        },
        "id": "927eb150",
        "outputId": "c2cc7e11-dfbb-4281-cf51-888db8a2eda9"
      },
      "outputs": [
        {
          "output_type": "stream",
          "name": "stdout",
          "text": [
            "X:Train, Test data shape:(219274, 28, 28),(54819, 28, 28)\n",
            "Y:Train, Test data shape:(219274, 94),(54819, 94)\n"
          ]
        }
      ],
      "source": [
        "# preping the inputs for training\n",
        "Length, Height = 28,28 #lenght and height of the images we are giving it 28X28\n",
        "NCl = y_train.nunique()[0] # Unique targets\n",
        "\n",
        "# N of images 28x28\n",
        "X_train = np.reshape(X_train.values, (X_train.shape[0] ,Length, Height)) \n",
        "X_test = np.reshape(X_test.values, (X_test.shape[0] ,Length, Height))\n",
        "\n",
        "# Target into Categorical Values\n",
        "y_train = to_categorical(y_train, NCl, dtype='int' )\n",
        "y_test = to_categorical(y_test, NCl, dtype='int' )\n",
        "\n",
        "print(f'X:Train, Test data shape:{X_train.shape},{X_test.shape}')\n",
        "print(f'Y:Train, Test data shape:{y_train.shape},{y_test.shape}')"
      ]
    },
    {
      "cell_type": "markdown",
      "id": "dc585234",
      "metadata": {
        "papermill": {
          "duration": 0.023658,
          "end_time": "2022-03-06T04:54:00.847779",
          "exception": false,
          "start_time": "2022-03-06T04:54:00.824121",
          "status": "completed"
        },
        "tags": [],
        "id": "dc585234"
      },
      "source": [
        "##Sample Dataset"
      ]
    },
    {
      "cell_type": "code",
      "execution_count": 10,
      "id": "d4c4de46",
      "metadata": {
        "execution": {
          "iopub.execute_input": "2022-03-06T04:54:00.901474Z",
          "iopub.status.busy": "2022-03-06T04:54:00.900757Z",
          "iopub.status.idle": "2022-03-06T04:54:02.070872Z",
          "shell.execute_reply": "2022-03-06T04:54:02.071444Z"
        },
        "papermill": {
          "duration": 1.200214,
          "end_time": "2022-03-06T04:54:02.071642",
          "exception": false,
          "start_time": "2022-03-06T04:54:00.871428",
          "status": "completed"
        },
        "tags": [],
        "colab": {
          "base_uri": "https://localhost:8080/",
          "height": 555
        },
        "id": "d4c4de46",
        "outputId": "0e861065-c2ae-48d0-8733-ff156d37e717"
      },
      "outputs": [
        {
          "output_type": "display_data",
          "data": {
            "text/plain": [
              "<Figure size 720x720 with 12 Axes>"
            ],
            "image/png": "[encoded data removed]"
          },
          "metadata": {
            "needs_background": "light"
          }
        }
      ],
      "source": [
        "# displaying the charecters of our dataset\n",
        "random = shuffle(X_train[:500]) #Randomly shuffle\n",
        "fig,ax = plt.subplots(3,4 , figsize = (10,10)) \n",
        "axes = ax.flatten()\n",
        "for i in range(12):\n",
        "    img = np.reshape(random[i], (28,28)) # reshaping it for displaying\n",
        "    axes[i].imshow(img, cmap=\"Greys\")\n",
        "    img_final =np.reshape(img, (1,28,28,1)) # reshapng it for passing into model for prediction\n",
        "    axes[i].grid()"
      ]
    },
    {
      "cell_type": "markdown",
      "id": "45597c4c",
      "metadata": {
        "execution": {
          "iopub.execute_input": "2021-09-07T02:23:28.040044Z",
          "iopub.status.busy": "2021-09-07T02:23:28.039647Z",
          "iopub.status.idle": "2021-09-07T02:23:28.051258Z",
          "shell.execute_reply": "2021-09-07T02:23:28.050481Z",
          "shell.execute_reply.started": "2021-09-07T02:23:28.040012Z"
        },
        "papermill": {
          "duration": 0.025495,
          "end_time": "2022-03-06T04:54:02.123005",
          "exception": false,
          "start_time": "2022-03-06T04:54:02.097510",
          "status": "completed"
        },
        "tags": [],
        "id": "45597c4c"
      },
      "source": [
        "## Libraries and input for CNN"
      ]
    },
    {
      "cell_type": "code",
      "execution_count": 11,
      "id": "7937dac2",
      "metadata": {
        "_kg_hide-input": true,
        "execution": {
          "iopub.execute_input": "2022-03-06T04:54:02.178171Z",
          "iopub.status.busy": "2022-03-06T04:54:02.177248Z",
          "iopub.status.idle": "2022-03-06T04:54:02.181355Z",
          "shell.execute_reply": "2022-03-06T04:54:02.181802Z"
        },
        "papermill": {
          "duration": 0.03393,
          "end_time": "2022-03-06T04:54:02.181930",
          "exception": false,
          "start_time": "2022-03-06T04:54:02.148000",
          "status": "completed"
        },
        "tags": [],
        "id": "7937dac2"
      },
      "outputs": [],
      "source": [
        "# importing libraries for building neural netwrok\n",
        "from tensorflow.keras.models import Sequential,load_model\n",
        "from tensorflow.keras.layers import Dense, Conv2D, MaxPool2D,Flatten,Dropout,BatchNormalization\n",
        "from tensorflow.keras.optimizers import SGD, Adam, RMSprop\n",
        "from tensorflow.keras.callbacks import EarlyStopping\n",
        "from tensorflow.keras.preprocessing.image import ImageDataGenerator"
      ]
    },
    {
      "cell_type": "code",
      "execution_count": 12,
      "id": "5326fe92",
      "metadata": {
        "_kg_hide-input": false,
        "execution": {
          "iopub.execute_input": "2022-03-06T04:54:02.358054Z",
          "iopub.status.busy": "2022-03-06T04:54:02.357102Z",
          "iopub.status.idle": "2022-03-06T04:54:02.650495Z",
          "shell.execute_reply": "2022-03-06T04:54:02.651175Z"
        },
        "papermill": {
          "duration": 0.342362,
          "end_time": "2022-03-06T04:54:02.651403",
          "exception": false,
          "start_time": "2022-03-06T04:54:02.309041",
          "status": "completed"
        },
        "tags": [],
        "colab": {
          "base_uri": "https://localhost:8080/"
        },
        "id": "5326fe92",
        "outputId": "5856c485-116f-4647-aa7c-0834e7dc9aba"
      },
      "outputs": [
        {
          "output_type": "stream",
          "name": "stdout",
          "text": [
            "Train, Test shapes: (219274, 28, 28, 1),(54819, 28, 28, 1)\n"
          ]
        }
      ],
      "source": [
        "RGB = 1  # In this case only one instead of 3 because we dont have Color images\n",
        "X_train = X_train.reshape(X_train.shape[0], X_train.shape[1],X_train.shape[2], RGB)\n",
        "X_test = X_test.reshape(X_test.shape[0], X_test.shape[1], X_test.shape[2],RGB)\n",
        "\n",
        "#normalizing the image data\n",
        "X_train = X_train/255\n",
        "X_test = X_test/255\n",
        "print(f'Train, Test shapes: {X_train.shape},{X_test.shape}')"
      ]
    },
    {
      "cell_type": "code",
      "execution_count": 13,
      "id": "2f3c14b4",
      "metadata": {
        "_kg_hide-input": true,
        "execution": {
          "iopub.execute_input": "2022-03-06T04:54:02.920176Z",
          "iopub.status.busy": "2022-03-06T04:54:02.919414Z",
          "iopub.status.idle": "2022-03-06T04:54:05.029305Z",
          "shell.execute_reply": "2022-03-06T04:54:05.029751Z"
        },
        "papermill": {
          "duration": 2.16161,
          "end_time": "2022-03-06T04:54:05.029905",
          "exception": false,
          "start_time": "2022-03-06T04:54:02.868295",
          "status": "completed"
        },
        "tags": [],
        "colab": {
          "base_uri": "https://localhost:8080/"
        },
        "id": "2f3c14b4",
        "outputId": "cb7cf66b-682d-4795-95a2-94597e7246d8"
      },
      "outputs": [
        {
          "output_type": "stream",
          "name": "stdout",
          "text": [
            "Model: \"sequential\"\n",
            "_________________________________________________________________\n",
            " Layer (type)                Output Shape              Param #   \n",
            "=================================================================\n",
            " conv2d (Conv2D)             (None, 28, 28, 32)        320       \n",
            "                                                                 \n",
            " conv2d_1 (Conv2D)           (None, 28, 28, 64)        18496     \n",
            "                                                                 \n",
            " conv2d_2 (Conv2D)           (None, 28, 28, 128)       73856     \n",
            "                                                                 \n",
            " conv2d_3 (Conv2D)           (None, 28, 28, 256)       295168    \n",
            "                                                                 \n",
            " batch_normalization (BatchN  (None, 28, 28, 256)      1024      \n",
            " ormalization)                                                   \n",
            "                                                                 \n",
            " activation (Activation)     (None, 28, 28, 256)       0         \n",
            "                                                                 \n",
            " max_pooling2d (MaxPooling2D  (None, 14, 14, 256)      0         \n",
            " )                                                               \n",
            "                                                                 \n",
            " dropout (Dropout)           (None, 14, 14, 256)       0         \n",
            "                                                                 \n",
            " flatten (Flatten)           (None, 50176)             0         \n",
            "                                                                 \n",
            " dense (Dense)               (None, 350)               17561950  \n",
            "                                                                 \n",
            " batch_normalization_1 (Batc  (None, 350)              1400      \n",
            " hNormalization)                                                 \n",
            "                                                                 \n",
            " activation_1 (Activation)   (None, 350)               0         \n",
            "                                                                 \n",
            " dropout_1 (Dropout)         (None, 350)               0         \n",
            "                                                                 \n",
            " dense_1 (Dense)             (None, 94)                32994     \n",
            "                                                                 \n",
            "=================================================================\n",
            "Total params: 17,985,208\n",
            "Trainable params: 17,983,996\n",
            "Non-trainable params: 1,212\n",
            "_________________________________________________________________\n"
          ]
        }
      ],
      "source": [
        "model = Sequential()\n",
        "\n",
        "#5 Convolution 2D layers with \n",
        "\n",
        "model.add(Conv2D(filters = 32 , kernel_size = (3,3),input_shape = (Length, Height, RGB), padding = 'same',))\n",
        "#filter are we are not defining which filter we are using but we can define how many filter we are using.\n",
        "#so this filter will pass through image from left to right from top to bottom of pixels\n",
        "model.add(Conv2D(filters = 64 , kernel_size = (3,3) ,padding = 'same')) \n",
        "#kernel is used to extract feature from the image there are 1X1 kernel 2X2 kernel max is 5X5 but that can take week or two to train the model\n",
        "model.add(Conv2D(filters = 128 , kernel_size = (3,3) ,padding = 'same'))\n",
        "#padding is for that it will give output of same size which input is given we can also use HALF in padding \n",
        "model.add(Conv2D(filters = 256 , kernel_size = (3,3) ,padding = 'same'))\n",
        "#So we are giving 5 conv2D neural Networks and each time filters are doubled\n",
        "model.add(Conv2D(filters = 512 , kernel_size = (3,3) ,padding = 'same'))\n",
        "\n",
        "#To automatically standardize the inputs to a layer in a Convolution neural network.\n",
        "model.add(BatchNormalization())\n",
        "\n",
        "#The activation function defines the output of a neuron / node given an input or set of input (output of multiple neurons).\n",
        "model.add(tf.keras.layers.Activation('relu'))\n",
        "\n",
        "# max pooling is used to reduce the spatial dimensions\n",
        "model.add(MaxPool2D(pool_size = (2,2)))\n",
        "model.add(Dropout(0.20))\n",
        "\n",
        "#flatten function flattens the multi-dimensional input tensors into a single dimension\n",
        "model.add(Flatten())\n",
        "#A Dense layer feeds all outputs from the previous layer to all its neurons, each neuron providing one output to the next layer.\n",
        "model.add(Dense(350))\n",
        "model.add(BatchNormalization())\n",
        "\n",
        "model.add(tf.keras.layers.Activation('relu'))\n",
        "#dropout is used to prevent model from overfitting\n",
        "model.add(Dropout(0.20))\n",
        "\n",
        "#The softmax function is used as the activation function in the output layer of neural network models.\n",
        "model.add(Dense(NCl, activation = 'softmax'))\n",
        "\n",
        "\n",
        "model.summary()"
      ]
    },
    {
      "cell_type": "code",
      "execution_count": 14,
      "id": "a1ccc6a6",
      "metadata": {
        "execution": {
          "iopub.execute_input": "2022-03-06T04:54:05.093503Z",
          "iopub.status.busy": "2022-03-06T04:54:05.092705Z",
          "iopub.status.idle": "2022-03-06T04:54:05.099261Z",
          "shell.execute_reply": "2022-03-06T04:54:05.098472Z"
        },
        "papermill": {
          "duration": 0.041827,
          "end_time": "2022-03-06T04:54:05.099385",
          "exception": false,
          "start_time": "2022-03-06T04:54:05.057558",
          "status": "completed"
        },
        "tags": [],
        "id": "a1ccc6a6"
      },
      "outputs": [],
      "source": [
        "#defining parameters for training\n",
        "optimizer  = Adam(learning_rate=0.01)\n",
        "callback =EarlyStopping(monitor='loss', patience=5)\n",
        "Batch_ = 64\n",
        "Epochs_ = 20\n",
        "\n",
        "model.compile(loss = 'categorical_crossentropy', optimizer = optimizer, metrics = ['accuracy'])\n"
      ]
    },
    {
      "cell_type": "markdown",
      "id": "30d6eb08",
      "metadata": {
        "papermill": {
          "duration": 0.026383,
          "end_time": "2022-03-06T04:54:05.152520",
          "exception": false,
          "start_time": "2022-03-06T04:54:05.126137",
          "status": "completed"
        },
        "tags": [],
        "id": "30d6eb08"
      },
      "source": [
        "##Model Training"
      ]
    },
    {
      "cell_type": "code",
      "execution_count": 15,
      "id": "8b8a5a0c",
      "metadata": {
        "execution": {
          "iopub.execute_input": "2022-03-06T04:54:05.210424Z",
          "iopub.status.busy": "2022-03-06T04:54:05.209578Z",
          "iopub.status.idle": "2022-03-06T05:31:29.912474Z",
          "shell.execute_reply": "2022-03-06T05:31:29.911983Z"
        },
        "papermill": {
          "duration": 2244.733571,
          "end_time": "2022-03-06T05:31:29.912640",
          "exception": false,
          "start_time": "2022-03-06T04:54:05.179069",
          "status": "completed"
        },
        "tags": [],
        "colab": {
          "base_uri": "https://localhost:8080/"
        },
        "id": "8b8a5a0c",
        "outputId": "63000a33-425f-48b9-b7cb-2fe136b03386"
      },
      "outputs": [
        {
          "output_type": "stream",
          "name": "stdout",
          "text": [
            "Epoch 1/20\n",
            "3427/3427 [==============================] - 117s 33ms/step - loss: 0.4517 - accuracy: 0.8685 - val_loss: 0.5814 - val_accuracy: 0.8362\n",
            "Epoch 2/20\n",
            "3427/3427 [==============================] - 111s 32ms/step - loss: 0.3114 - accuracy: 0.9043 - val_loss: 0.2878 - val_accuracy: 0.9123\n",
            "Epoch 3/20\n",
            "3427/3427 [==============================] - 114s 33ms/step - loss: 0.2761 - accuracy: 0.9134 - val_loss: 0.2711 - val_accuracy: 0.9210\n",
            "Epoch 4/20\n",
            "3427/3427 [==============================] - 114s 33ms/step - loss: 0.2480 - accuracy: 0.9208 - val_loss: 0.2477 - val_accuracy: 0.9249\n",
            "Epoch 5/20\n",
            "3427/3427 [==============================] - 114s 33ms/step - loss: 0.2282 - accuracy: 0.9261 - val_loss: 0.2589 - val_accuracy: 0.9240\n",
            "Epoch 6/20\n",
            "3427/3427 [==============================] - 113s 33ms/step - loss: 0.2125 - accuracy: 0.9308 - val_loss: 0.2476 - val_accuracy: 0.9268\n",
            "Epoch 7/20\n",
            "3427/3427 [==============================] - 114s 33ms/step - loss: 0.1998 - accuracy: 0.9343 - val_loss: 0.2419 - val_accuracy: 0.9332\n",
            "Epoch 8/20\n",
            "3427/3427 [==============================] - 114s 33ms/step - loss: 0.1906 - accuracy: 0.9368 - val_loss: 0.2482 - val_accuracy: 0.9290\n",
            "Epoch 9/20\n",
            "3427/3427 [==============================] - 114s 33ms/step - loss: 0.1831 - accuracy: 0.9388 - val_loss: 0.2344 - val_accuracy: 0.9349\n",
            "Epoch 10/20\n",
            "3427/3427 [==============================] - 114s 33ms/step - loss: 0.1774 - accuracy: 0.9409 - val_loss: 0.2592 - val_accuracy: 0.9287\n",
            "Epoch 11/20\n",
            "3427/3427 [==============================] - 112s 33ms/step - loss: 0.1715 - accuracy: 0.9425 - val_loss: 0.2731 - val_accuracy: 0.9340\n",
            "Epoch 12/20\n",
            "3427/3427 [==============================] - 115s 33ms/step - loss: 0.1667 - accuracy: 0.9439 - val_loss: 0.2380 - val_accuracy: 0.9340\n",
            "Epoch 13/20\n",
            "3427/3427 [==============================] - 112s 33ms/step - loss: 0.1635 - accuracy: 0.9451 - val_loss: 0.2430 - val_accuracy: 0.9380\n",
            "Epoch 14/20\n",
            "3427/3427 [==============================] - 112s 33ms/step - loss: 0.1584 - accuracy: 0.9469 - val_loss: 0.2614 - val_accuracy: 0.9357\n",
            "Epoch 15/20\n",
            "3427/3427 [==============================] - 114s 33ms/step - loss: 0.1561 - accuracy: 0.9479 - val_loss: 0.2556 - val_accuracy: 0.9345\n",
            "Epoch 16/20\n",
            "3427/3427 [==============================] - 112s 33ms/step - loss: 0.1528 - accuracy: 0.9480 - val_loss: 0.2706 - val_accuracy: 0.9381\n",
            "Epoch 17/20\n",
            "3427/3427 [==============================] - 112s 33ms/step - loss: 0.1491 - accuracy: 0.9499 - val_loss: 0.2700 - val_accuracy: 0.9381\n",
            "Epoch 18/20\n",
            "3427/3427 [==============================] - 115s 34ms/step - loss: 0.1476 - accuracy: 0.9502 - val_loss: 0.2809 - val_accuracy: 0.9345\n",
            "Epoch 19/20\n",
            "3427/3427 [==============================] - 117s 34ms/step - loss: 0.1470 - accuracy: 0.9506 - val_loss: 0.3045 - val_accuracy: 0.9370\n",
            "Epoch 20/20\n",
            "3427/3427 [==============================] - 113s 33ms/step - loss: 0.1434 - accuracy: 0.9516 - val_loss: 0.2894 - val_accuracy: 0.9357\n"
          ]
        }
      ],
      "source": [
        "#Training\n",
        "history= model.fit(X_train,y_train, validation_data = (X_test,y_test),batch_size = Batch_ ,\n",
        "                   epochs = Epochs_, verbose = 1)"
      ]
    },
    {
      "cell_type": "markdown",
      "id": "d807a41c",
      "metadata": {
        "papermill": {
          "duration": 12.237695,
          "end_time": "2022-03-06T05:31:53.934650",
          "exception": false,
          "start_time": "2022-03-06T05:31:41.696955",
          "status": "completed"
        },
        "tags": [],
        "id": "d807a41c"
      },
      "source": [
        "##Model Accuracy"
      ]
    },
    {
      "cell_type": "code",
      "execution_count": 16,
      "id": "2afeb7cd",
      "metadata": {
        "execution": {
          "iopub.execute_input": "2022-03-06T05:32:17.440448Z",
          "iopub.status.busy": "2022-03-06T05:32:17.439635Z",
          "iopub.status.idle": "2022-03-06T05:32:19.949213Z",
          "shell.execute_reply": "2022-03-06T05:32:19.949976Z"
        },
        "papermill": {
          "duration": 14.21982,
          "end_time": "2022-03-06T05:32:19.950186",
          "exception": false,
          "start_time": "2022-03-06T05:32:05.730366",
          "status": "completed"
        },
        "tags": [],
        "colab": {
          "base_uri": "https://localhost:8080/"
        },
        "id": "2afeb7cd",
        "outputId": "60c9ac01-8712-4fcb-82b7-a8eb30a027a2"
      },
      "outputs": [
        {
          "output_type": "stream",
          "name": "stdout",
          "text": [
            "Test Accuracy:93.57%\n"
          ]
        }
      ],
      "source": [
        "#Evaluating model accuracy on test data\n",
        "score = model.evaluate(X_test,y_test, batch_size = Batch_,verbose = 0)\n",
        "print(f\"Test Accuracy:{round(score[1],4)*100}%\")\n"
      ]
    },
    {
      "cell_type": "markdown",
      "id": "ab57cb12",
      "metadata": {
        "papermill": {
          "duration": 11.926426,
          "end_time": "2022-03-06T05:32:44.124720",
          "exception": false,
          "start_time": "2022-03-06T05:32:32.198294",
          "status": "completed"
        },
        "tags": [],
        "id": "ab57cb12"
      },
      "source": [
        "##Model Performance</h2>"
      ]
    },
    {
      "cell_type": "code",
      "execution_count": 17,
      "id": "5e02c037",
      "metadata": {
        "execution": {
          "iopub.execute_input": "2022-03-06T05:33:08.422997Z",
          "iopub.status.busy": "2022-03-06T05:33:08.422188Z",
          "iopub.status.idle": "2022-03-06T05:33:08.424842Z",
          "shell.execute_reply": "2022-03-06T05:33:08.424332Z"
        },
        "papermill": {
          "duration": 11.771858,
          "end_time": "2022-03-06T05:33:08.424963",
          "exception": false,
          "start_time": "2022-03-06T05:32:56.653105",
          "status": "completed"
        },
        "tags": [],
        "id": "5e02c037"
      },
      "outputs": [],
      "source": [
        "# Function for Plotting\n",
        "def Plott (data):\n",
        "    fig, ax = plt.subplots(1,2 , figsize = (20,7))\n",
        "    # summarize history for accuracy\n",
        "    ax[0].plot(data.history['accuracy'])\n",
        "    ax[0].plot(data.history['val_accuracy'])\n",
        "    ax[0].set_title('model accuracy')\n",
        "    ax[0].legend(['train', 'test'], loc='upper left')\n",
        "\n",
        "    # summarize history for loss\n",
        "    ax[1].plot(data.history['loss'], label =['loss'])\n",
        "    ax[1].plot(data.history['val_loss'] ,label =['val_loss'])\n",
        "    ax[1].set_title('model loss')\n",
        "    ax[1].legend(['train', 'test'], loc='upper left')\n",
        "    plt.show()"
      ]
    },
    {
      "cell_type": "code",
      "execution_count": 18,
      "id": "34790b7a",
      "metadata": {
        "execution": {
          "iopub.execute_input": "2022-03-06T05:33:32.535136Z",
          "iopub.status.busy": "2022-03-06T05:33:32.534290Z",
          "iopub.status.idle": "2022-03-06T05:33:32.825746Z",
          "shell.execute_reply": "2022-03-06T05:33:32.825293Z"
        },
        "papermill": {
          "duration": 12.446351,
          "end_time": "2022-03-06T05:33:32.825875",
          "exception": false,
          "start_time": "2022-03-06T05:33:20.379524",
          "status": "completed"
        },
        "tags": [],
        "colab": {
          "base_uri": "https://localhost:8080/",
          "height": 444
        },
        "id": "34790b7a",
        "outputId": "cfb0131d-5d68-44d1-9b11-5fd80f888733"
      },
      "outputs": [
        {
          "output_type": "display_data",
          "data": {
            "text/plain": [
              "<Figure size 1440x504 with 2 Axes>"
            ],
            "image/png": "[encoded data removed]"
          },
          "metadata": {
            "needs_background": "light"
          }
        }
      ],
      "source": [
        "Plott(history)"
      ]
    },
    {
      "cell_type": "markdown",
      "source": [
        "## Model 2 with another layer"
      ],
      "metadata": {
        "id": "Dm6NRg-AolGK"
      },
      "id": "Dm6NRg-AolGK"
    },
    {
      "cell_type": "code",
      "source": [
        "model_second = Sequential()\n",
        "\n",
        "#5 Convolution 2D layers with \n",
        "\n",
        "model_second.add(Conv2D(filters = 32 , kernel_size = (3,3),input_shape = (Length, Height, RGB), padding = 'same',))\n",
        "#filter are we are not defining which filter we are using but we can define how many filter we are using.\n",
        "#so this filter will pass through image from left to right from top to bottom of pixels\n",
        "model_second.add(Conv2D(filters = 64 , kernel_size = (3,3) ,padding = 'same')) \n",
        "#kernel is used to extract feature from the image there are 1X1 kernel 2X2 kernel max is 5X5 but that can take week or two to train the model\n",
        "model_second.add(Conv2D(filters = 128 , kernel_size = (3,3) ,padding = 'same'))\n",
        "#padding is for that it will give output of same size which input is given we can also use HALF in padding \n",
        "model_second.add(Conv2D(filters = 256 , kernel_size = (3,3) ,padding = 'same'))\n",
        "#So we are giving 5 conv2D neural Networks and each time filters are doubled\n",
        "model_second.add(Conv2D(filters = 512 , kernel_size = (3,3) ,padding = 'same'))\n",
        "\n",
        "#To automatically standardize the inputs to a layer in a Convolution neural network.\n",
        "model_second.add(BatchNormalization())\n",
        "\n",
        "#The activation function defines the output of a neuron / node given an input or set of input (output of multiple neurons).\n",
        "model_second.add(tf.keras.layers.Activation('relu'))\n",
        "\n",
        "# max pooling is used to reduce the spatial dimensions\n",
        "model_second.add(MaxPool2D(pool_size = (2,2)))\n",
        "model_second.add(Dropout(0.20))\n",
        "\n",
        "#flatten function flattens the multi-dimensional input tensors into a single dimension\n",
        "model_second.add(Flatten())\n",
        "#A Dense layer feeds all outputs from the previous layer to all its neurons, each neuron providing one output to the next layer.\n",
        "model_second.add(Dense(350))\n",
        "model_second.add(BatchNormalization())\n",
        "\n",
        "model_second.add(tf.keras.layers.Activation('relu'))\n",
        "#dropout is used to prevent model from overfitting\n",
        "model_second.add(Dropout(0.20))\n",
        "\n",
        "#The softmax function is used as the activation function in the output layer of neural network models.\n",
        "model_second.add(Dense(NCl, activation = 'softmax'))\n",
        "\n",
        "\n",
        "model.summary()"
      ],
      "metadata": {
        "colab": {
          "base_uri": "https://localhost:8080/"
        },
        "id": "useIPitjokNr",
        "outputId": "79ebe483-a2ad-4fe0-8dd5-e2f2f1dd0035"
      },
      "id": "useIPitjokNr",
      "execution_count": 19,
      "outputs": [
        {
          "output_type": "stream",
          "name": "stdout",
          "text": [
            "Model: \"sequential\"\n",
            "_________________________________________________________________\n",
            " Layer (type)                Output Shape              Param #   \n",
            "=================================================================\n",
            " conv2d (Conv2D)             (None, 28, 28, 32)        320       \n",
            "                                                                 \n",
            " conv2d_1 (Conv2D)           (None, 28, 28, 64)        18496     \n",
            "                                                                 \n",
            " conv2d_2 (Conv2D)           (None, 28, 28, 128)       73856     \n",
            "                                                                 \n",
            " conv2d_3 (Conv2D)           (None, 28, 28, 256)       295168    \n",
            "                                                                 \n",
            " batch_normalization (BatchN  (None, 28, 28, 256)      1024      \n",
            " ormalization)                                                   \n",
            "                                                                 \n",
            " activation (Activation)     (None, 28, 28, 256)       0         \n",
            "                                                                 \n",
            " max_pooling2d (MaxPooling2D  (None, 14, 14, 256)      0         \n",
            " )                                                               \n",
            "                                                                 \n",
            " dropout (Dropout)           (None, 14, 14, 256)       0         \n",
            "                                                                 \n",
            " flatten (Flatten)           (None, 50176)             0         \n",
            "                                                                 \n",
            " dense (Dense)               (None, 350)               17561950  \n",
            "                                                                 \n",
            " batch_normalization_1 (Batc  (None, 350)              1400      \n",
            " hNormalization)                                                 \n",
            "                                                                 \n",
            " activation_1 (Activation)   (None, 350)               0         \n",
            "                                                                 \n",
            " dropout_1 (Dropout)         (None, 350)               0         \n",
            "                                                                 \n",
            " dense_1 (Dense)             (None, 94)                32994     \n",
            "                                                                 \n",
            "=================================================================\n",
            "Total params: 17,985,208\n",
            "Trainable params: 17,983,996\n",
            "Non-trainable params: 1,212\n",
            "_________________________________________________________________\n"
          ]
        }
      ]
    },
    {
      "cell_type": "code",
      "source": [
        "#defining parameters for training\n",
        "optimizer  = Adam(learning_rate=0.01)\n",
        "callback =EarlyStopping(monitor='loss', patience=5)\n",
        "Batch_ = 64\n",
        "Epochs_ = 20\n",
        "\n",
        "model_second.compile(loss = 'categorical_crossentropy', optimizer = optimizer, metrics = ['accuracy'])\n"
      ],
      "metadata": {
        "id": "rB36WS_9xcSw"
      },
      "id": "rB36WS_9xcSw",
      "execution_count": 21,
      "outputs": []
    },
    {
      "cell_type": "code",
      "source": [
        "#Training\n",
        "history= model_second.fit(X_train,y_train, validation_data = (X_test,y_test),batch_size = Batch_ ,\n",
        "                   epochs = Epochs_, verbose = 1)"
      ],
      "metadata": {
        "colab": {
          "base_uri": "https://localhost:8080/"
        },
        "id": "ybOD_Kr5xi2M",
        "outputId": "6992db66-7d0d-4b23-b312-3c20e527fb0c"
      },
      "id": "ybOD_Kr5xi2M",
      "execution_count": 22,
      "outputs": [
        {
          "output_type": "stream",
          "name": "stdout",
          "text": [
            "Epoch 1/20\n",
            "3427/3427 [==============================] - 286s 83ms/step - loss: 0.4571 - accuracy: 0.8686 - val_loss: 0.3649 - val_accuracy: 0.8940\n",
            "Epoch 2/20\n",
            "3427/3427 [==============================] - 282s 82ms/step - loss: 0.3124 - accuracy: 0.9044 - val_loss: 0.3305 - val_accuracy: 0.9020\n",
            "Epoch 3/20\n",
            "3427/3427 [==============================] - 281s 82ms/step - loss: 0.2752 - accuracy: 0.9137 - val_loss: 0.2716 - val_accuracy: 0.9164\n",
            "Epoch 4/20\n",
            "3427/3427 [==============================] - 278s 81ms/step - loss: 0.2481 - accuracy: 0.9209 - val_loss: 0.2537 - val_accuracy: 0.9244\n",
            "Epoch 5/20\n",
            "3427/3427 [==============================] - 278s 81ms/step - loss: 0.2286 - accuracy: 0.9263 - val_loss: 0.2376 - val_accuracy: 0.9295\n",
            "Epoch 6/20\n",
            "3427/3427 [==============================] - 276s 81ms/step - loss: 0.2118 - accuracy: 0.9311 - val_loss: 0.2469 - val_accuracy: 0.9302\n",
            "Epoch 7/20\n",
            "3427/3427 [==============================] - 276s 81ms/step - loss: 0.2015 - accuracy: 0.9335 - val_loss: 0.2411 - val_accuracy: 0.9303\n",
            "Epoch 8/20\n",
            "3427/3427 [==============================] - 275s 80ms/step - loss: 0.1904 - accuracy: 0.9370 - val_loss: 0.2380 - val_accuracy: 0.9335\n",
            "Epoch 9/20\n",
            "3427/3427 [==============================] - 274s 80ms/step - loss: 0.1837 - accuracy: 0.9391 - val_loss: 0.2339 - val_accuracy: 0.9359\n",
            "Epoch 10/20\n",
            "3427/3427 [==============================] - 272s 79ms/step - loss: 0.1778 - accuracy: 0.9411 - val_loss: 0.2385 - val_accuracy: 0.9344\n",
            "Epoch 11/20\n",
            "3427/3427 [==============================] - 272s 79ms/step - loss: 0.1724 - accuracy: 0.9427 - val_loss: 0.2361 - val_accuracy: 0.9354\n",
            "Epoch 12/20\n",
            "3427/3427 [==============================] - 272s 79ms/step - loss: 0.1650 - accuracy: 0.9445 - val_loss: 0.2518 - val_accuracy: 0.9334\n",
            "Epoch 13/20\n",
            "3427/3427 [==============================] - 273s 80ms/step - loss: 0.1627 - accuracy: 0.9453 - val_loss: 0.2570 - val_accuracy: 0.9365\n",
            "Epoch 14/20\n",
            "3427/3427 [==============================] - 273s 80ms/step - loss: 0.1563 - accuracy: 0.9472 - val_loss: 0.2386 - val_accuracy: 0.9391\n",
            "Epoch 15/20\n",
            "3427/3427 [==============================] - 273s 80ms/step - loss: 0.1554 - accuracy: 0.9476 - val_loss: 0.2541 - val_accuracy: 0.9361\n",
            "Epoch 16/20\n",
            "3427/3427 [==============================] - 272s 79ms/step - loss: 0.1516 - accuracy: 0.9485 - val_loss: 0.2618 - val_accuracy: 0.9366\n",
            "Epoch 17/20\n",
            "3427/3427 [==============================] - 272s 79ms/step - loss: 0.1493 - accuracy: 0.9496 - val_loss: 0.2967 - val_accuracy: 0.9328\n",
            "Epoch 18/20\n",
            "3427/3427 [==============================] - 271s 79ms/step - loss: 0.1490 - accuracy: 0.9497 - val_loss: 0.2592 - val_accuracy: 0.9364\n",
            "Epoch 19/20\n",
            "3427/3427 [==============================] - 271s 79ms/step - loss: 0.1436 - accuracy: 0.9515 - val_loss: 0.2680 - val_accuracy: 0.9384\n",
            "Epoch 20/20\n",
            "3427/3427 [==============================] - 271s 79ms/step - loss: 0.1420 - accuracy: 0.9522 - val_loss: 0.2859 - val_accuracy: 0.9369\n"
          ]
        }
      ]
    },
    {
      "cell_type": "code",
      "source": [
        "#Evaluating model accuracy on test data\n",
        "score = model_second.evaluate(X_test,y_test, batch_size = Batch_,verbose = 0)\n",
        "print(f\"Test Accuracy:{round(score[1],4)*100}%\")\n"
      ],
      "metadata": {
        "colab": {
          "base_uri": "https://localhost:8080/"
        },
        "id": "bEWjTV3XxyrC",
        "outputId": "ed4adf49-f24b-492d-9abe-440643bb5acb"
      },
      "id": "bEWjTV3XxyrC",
      "execution_count": 23,
      "outputs": [
        {
          "output_type": "stream",
          "name": "stdout",
          "text": [
            "Test Accuracy:93.69%\n"
          ]
        }
      ]
    },
    {
      "cell_type": "markdown",
      "source": [
        "###Vizualising 2nd Model Accuracy "
      ],
      "metadata": {
        "id": "uLHYqPnHx5rT"
      },
      "id": "uLHYqPnHx5rT"
    },
    {
      "cell_type": "code",
      "source": [
        "# Function for Plotting\n",
        "def Plott (data):\n",
        "    fig, ax = plt.subplots(1,2 , figsize = (20,7))\n",
        "    # summarize history for accuracy\n",
        "    ax[0].plot(data.history['accuracy'])\n",
        "    ax[0].plot(data.history['val_accuracy'])\n",
        "    ax[0].set_title('model accuracy')\n",
        "    ax[0].legend(['train', 'test'], loc='upper left')\n",
        "\n",
        "    # summarize history for loss\n",
        "    ax[1].plot(data.history['loss'], label =['loss'])\n",
        "    ax[1].plot(data.history['val_loss'] ,label =['val_loss'])\n",
        "    ax[1].set_title('model loss')\n",
        "    ax[1].legend(['train', 'test'], loc='upper left')\n",
        "    plt.show()"
      ],
      "metadata": {
        "id": "VP9g0Kibx4Xe"
      },
      "id": "VP9g0Kibx4Xe",
      "execution_count": 24,
      "outputs": []
    },
    {
      "cell_type": "code",
      "source": [
        "Plott(history)"
      ],
      "metadata": {
        "colab": {
          "base_uri": "https://localhost:8080/",
          "height": 444
        },
        "id": "vbPGZna4yB9a",
        "outputId": "aec77ba1-75a8-4e9f-c2bd-7e540f0a0c9b"
      },
      "id": "vbPGZna4yB9a",
      "execution_count": 25,
      "outputs": [
        {
          "output_type": "display_data",
          "data": {
            "text/plain": [
              "<Figure size 1440x504 with 2 Axes>"
            ],
            "image/png": "[encoded data removed]"
          },
          "metadata": {
            "needs_background": "light"
          }
        }
      ]
    },
    {
      "cell_type": "markdown",
      "id": "77ac072b",
      "metadata": {
        "papermill": {
          "duration": 11.699567,
          "end_time": "2022-03-06T05:33:56.398409",
          "exception": false,
          "start_time": "2022-03-06T05:33:44.698842",
          "status": "completed"
        },
        "tags": [],
        "id": "77ac072b"
      },
      "source": [
        "##Lets do some Predictions\n",
        " \n",
        "<p> Fingers Crossed :p </p>"
      ]
    },
    {
      "cell_type": "code",
      "execution_count": 26,
      "id": "a6327b6b",
      "metadata": {
        "execution": {
          "iopub.execute_input": "2022-03-06T05:34:20.344784Z",
          "iopub.status.busy": "2022-03-06T05:34:20.343834Z",
          "iopub.status.idle": "2022-03-06T05:34:21.669076Z",
          "shell.execute_reply": "2022-03-06T05:34:21.669464Z"
        },
        "papermill": {
          "duration": 13.074396,
          "end_time": "2022-03-06T05:34:21.669640",
          "exception": false,
          "start_time": "2022-03-06T05:34:08.595244",
          "status": "completed"
        },
        "tags": [],
        "colab": {
          "base_uri": "https://localhost:8080/",
          "height": 541
        },
        "id": "a6327b6b",
        "outputId": "87d1dd47-4396-47f9-e179-ccb7121e9d39"
      },
      "outputs": [
        {
          "output_type": "display_data",
          "data": {
            "text/plain": [
              "<Figure size 576x648 with 9 Axes>"
            ],
            "image/png": "[encoded data removed]"
          },
          "metadata": {
            "needs_background": "light"
          }
        }
      ],
      "source": [
        "#predicting the charecters using trained model\n",
        "fig, axes = plt.subplots(3,3, figsize=(8,9))\n",
        "axes = axes.flatten()\n",
        "\n",
        "for i,ax in enumerate(axes):\n",
        "    img = np.reshape(X_test[i], (28,28)) # reshaping it for displaying\n",
        "    ax.imshow(img, cmap=\"Greys\")\n",
        "    img_final =np.reshape(img, (1,28,28,1)) # reshapng it for passing into model for prediction\n",
        "    pred = label_dict_inv[np.argmax(model.predict(img_final))]\n",
        "    ax.set_title(\"Prediction: \"+pred)\n",
        "    ax.grid()"
      ]
    },
    {
      "cell_type": "markdown",
      "id": "c57edcff",
      "metadata": {
        "papermill": {
          "duration": 12.00449,
          "end_time": "2022-03-06T05:34:46.062271",
          "exception": false,
          "start_time": "2022-03-06T05:34:34.057781",
          "status": "completed"
        },
        "tags": [],
        "id": "c57edcff"
      },
      "source": [
        "##Conclusion <br/>\n",
        "\n",
        "1. The model performed good and was able to predict with 100% accuracy (9 out of 9 predictions are correct)<br>\n",
        "2. The accuracy on test test is 93.69%"
      ]
    },
    {
      "cell_type": "markdown",
      "source": [
        "##Citations<br>\n",
        "\n",
        "Dataset Author : Prof: Nik Bear Brown <br>\n",
        "Dataset Link : https://www.kaggle.com/datasets/nikbearbrown/tmnist-alphabet-94-characters/code"
      ],
      "metadata": {
        "id": "6nc-6Zn6yQwc"
      },
      "id": "6nc-6Zn6yQwc"
    },
    {
      "cell_type": "markdown",
      "source": [
        "##Licensing<br>\n",
        "Permission is hereby granted, free of charge, to any person obtaining a copy of this software and associated documentation files (the \"Software\"), to deal in the Software without restriction, including without limitation the rights to use, copy, modify, merge, publish, distribute, sublicense, and/or sell copies of the Software, and to permit persons to whom the Software is furnished to do so, subject to the following conditions:<br>\n",
        "\n",
        "The above copyright notice and this permission notice shall be included in all copies or substantial portions of the Software.<br>\n",
        "\n",
        "THE SOFTWARE IS PROVIDED \"AS IS\", WITHOUT WARRANTY OF ANY KIND, EXPRESS OR IMPLIED, INCLUDING BUT NOT LIMITED TO THE WARRANTIES OF MERCHANTABILITY, FITNESS FOR A PARTICULAR PURPOSE AND NONINFRINGEMENT. IN NO EVENT SHALL THE AUTHORS OR COPYRIGHT HOLDERS BE LIABLE FOR ANY CLAIM, DAMAGES OR OTHER LIABILITY, WHETHER IN AN ACTION OF CONTRACT, TORT OR OTHERWISE, ARISING FROM, OUT OF OR IN CONNECTION WITH THE SOFTWARE OR THE USE OR OTHER DEALINGS IN THE SOFTWARE."
      ],
      "metadata": {
        "id": "POb09FVymS-X"
      },
      "id": "POb09FVymS-X"
    }
  ],
  "metadata": {
    "kernelspec": {
      "display_name": "Python 3",
      "language": "python",
      "name": "python3"
    },
    "language_info": {
      "codemirror_mode": {
        "name": "ipython",
        "version": 3
      },
      "file_extension": ".py",
      "mimetype": "text/x-python",
      "name": "python",
      "nbconvert_exporter": "python",
      "pygments_lexer": "ipython3",
      "version": "3.7.12"
    },
    "papermill": {
      "default_parameters": {},
      "duration": 2535.709702,
      "end_time": "2022-03-06T05:35:25.210800",
      "environment_variables": {},
      "exception": null,
      "input_path": "__notebook__.ipynb",
      "output_path": "__notebook__.ipynb",
      "parameters": {},
      "start_time": "2022-03-06T04:53:09.501098",
      "version": "2.3.3"
    },
    "colab": {
      "name": "Saad_Ghojaria_Neural Network Type Classification",
      "provenance": [],
      "include_colab_link": true
    },
    "accelerator": "GPU"
  },
  "nbformat": 4,
  "nbformat_minor": 5
}