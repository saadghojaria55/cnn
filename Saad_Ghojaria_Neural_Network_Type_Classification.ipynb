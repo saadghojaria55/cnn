{
  "cells": [
    {
      "cell_type": "markdown",
      "metadata": {
        "id": "view-in-github",
        "colab_type": "text"
      },
      "source": [
        "<a href=\"https://colab.research.google.com/github/saadghojaria55/cnn/blob/main/Saad_Ghojaria_Neural_Network_Type_Classification.ipynb\" target=\"_parent\"><img src=\"https://colab.research.google.com/assets/colab-badge.svg\" alt=\"Open In Colab\"/></a>"
      ]
    },
    {
      "cell_type": "markdown",
      "id": "52d43022",
      "metadata": {
        "papermill": {
          "duration": 0.022305,
          "end_time": "2022-03-06T04:53:17.286451",
          "exception": false,
          "start_time": "2022-03-06T04:53:17.264146",
          "status": "completed"
        },
        "tags": [],
        "id": "52d43022"
      },
      "source": [
        "<h2 style='text-align:center;font-family:Comic Sans MS;font-size:40px;background-color:lightseagreen;border:20px;color:white'>Abstract</h2>\n",
        "The purpose of this notebook is to perform charecter recognition on TMINST (94 charecter) dataset. We used a simple CNN network to perform the charecter recognition. Overall it was observed that the accuracy is close to 94.2% which is pretty good for a simple 7 layer CNN."
      ]
    },
    {
      "cell_type": "markdown",
      "id": "904c4a77",
      "metadata": {
        "papermill": {
          "duration": 0.020767,
          "end_time": "2022-03-06T04:53:17.330198",
          "exception": false,
          "start_time": "2022-03-06T04:53:17.309431",
          "status": "completed"
        },
        "tags": [],
        "id": "904c4a77"
      },
      "source": [
        "<h2 style='text-align:center;font-family:Comic Sans MS;font-size:40px;background-color:lightseagreen;border:20px;color:white'>Importing Libraries and Fuctions</h2>"
      ]
    },
    {
      "cell_type": "code",
      "execution_count": 1,
      "id": "2402e4c0",
      "metadata": {
        "_cell_guid": "b1076dfc-b9ad-4769-8c92-a6c4dae69d19",
        "_kg_hide-input": true,
        "_uuid": "8f2839f25d086af736a60e9eeb907d3b93b6e0e5",
        "execution": {
          "iopub.execute_input": "2022-03-06T04:53:17.382635Z",
          "iopub.status.busy": "2022-03-06T04:53:17.381873Z",
          "iopub.status.idle": "2022-03-06T04:53:23.069689Z",
          "shell.execute_reply": "2022-03-06T04:53:23.070228Z"
        },
        "papermill": {
          "duration": 5.71917,
          "end_time": "2022-03-06T04:53:23.070491",
          "exception": false,
          "start_time": "2022-03-06T04:53:17.351321",
          "status": "completed"
        },
        "tags": [],
        "id": "2402e4c0"
      },
      "outputs": [],
      "source": [
        "import numpy as np \n",
        "import pandas as pd \n",
        "import re\n",
        "\n",
        "from sklearn.model_selection import train_test_split\n",
        "from sklearn.utils import shuffle\n",
        "\n",
        "import tensorflow as tf \n",
        "from tensorflow.keras.utils import to_categorical\n",
        "\n",
        "\n",
        "import matplotlib.pyplot as plt\n",
        "import warnings\n",
        "warnings.filterwarnings('ignore')\n",
        "%matplotlib inline\n",
        "\n",
        "from google.colab import drive"
      ]
    },
    {
      "cell_type": "markdown",
      "id": "07f4a1b2",
      "metadata": {
        "papermill": {
          "duration": 0.021183,
          "end_time": "2022-03-06T04:53:23.114124",
          "exception": false,
          "start_time": "2022-03-06T04:53:23.092941",
          "status": "completed"
        },
        "tags": [],
        "id": "07f4a1b2"
      },
      "source": [
        "<h2 style='text-align:center;font-family:Comic Sans MS;font-size:40px;background-color:lightseagreen;border:20px;color:white'>Reading Data</h2>"
      ]
    },
    {
      "cell_type": "code",
      "execution_count": null,
      "id": "c8c42339",
      "metadata": {
        "execution": {
          "iopub.execute_input": "2022-03-06T04:53:23.160872Z",
          "iopub.status.busy": "2022-03-06T04:53:23.160299Z",
          "iopub.status.idle": "2022-03-06T04:53:57.010032Z",
          "shell.execute_reply": "2022-03-06T04:53:57.010433Z"
        },
        "papermill": {
          "duration": 33.875294,
          "end_time": "2022-03-06T04:53:57.010593",
          "exception": false,
          "start_time": "2022-03-06T04:53:23.135299",
          "status": "completed"
        },
        "tags": [],
        "colab": {
          "base_uri": "https://localhost:8080/",
          "height": 250
        },
        "id": "c8c42339",
        "outputId": "5f7d8eb5-568e-4a0c-bc81-d6f6b3177b19"
      },
      "outputs": [
        {
          "output_type": "stream",
          "name": "stdout",
          "text": [
            "Mounted at /content/drive\n"
          ]
        },
        {
          "output_type": "execute_result",
          "data": {
            "text/plain": [
              "                  names labels    1    2    3    4    5    6    7    8  ...  \\\n",
              "0         Salsa-Regular      6  0.0  0.0  0.0  0.0  0.0  0.0  0.0  0.0  ...   \n",
              "1  MouseMemoirs-Regular      D  0.0  0.0  0.0  0.0  0.0  0.0  0.0  0.0  ...   \n",
              "2     Creepster-Regular      f  0.0  0.0  0.0  0.0  0.0  0.0  0.0  0.0  ...   \n",
              "3     SeoulNamsan-Light      /  0.0  0.0  0.0  0.0  0.0  0.0  0.0  0.0  ...   \n",
              "4  HachiMaruPop-Regular      F  0.0  0.0  0.0  0.0  0.0  0.0  0.0  0.0  ...   \n",
              "\n",
              "   775  776  777  778  779  780  781  782  783  784  \n",
              "0  0.0  0.0  0.0  0.0  0.0  0.0  0.0  0.0  0.0  0.0  \n",
              "1  0.0  0.0  0.0  0.0  0.0  0.0  0.0  0.0  0.0  0.0  \n",
              "2  0.0  0.0  0.0  0.0  0.0  0.0  0.0  0.0  0.0  0.0  \n",
              "3  0.0  0.0  0.0  0.0  0.0  0.0  0.0  0.0  0.0  0.0  \n",
              "4  0.0  0.0  0.0  0.0  0.0  0.0  0.0  0.0  0.0  0.0  \n",
              "\n",
              "[5 rows x 786 columns]"
            ],
            "text/html": [
              "\n",
              "  <div id=\"df-2053c2e7-d619-4594-bc98-312563726a20\">\n",
              "    <div class=\"colab-df-container\">\n",
              "      <div>\n",
              "<style scoped>\n",
              "    .dataframe tbody tr th:only-of-type {\n",
              "        vertical-align: middle;\n",
              "    }\n",
              "\n",
              "    .dataframe tbody tr th {\n",
              "        vertical-align: top;\n",
              "    }\n",
              "\n",
              "    .dataframe thead th {\n",
              "        text-align: right;\n",
              "    }\n",
              "</style>\n",
              "<table border=\"1\" class=\"dataframe\">\n",
              "  <thead>\n",
              "    <tr style=\"text-align: right;\">\n",
              "      <th></th>\n",
              "      <th>names</th>\n",
              "      <th>labels</th>\n",
              "      <th>1</th>\n",
              "      <th>2</th>\n",
              "      <th>3</th>\n",
              "      <th>4</th>\n",
              "      <th>5</th>\n",
              "      <th>6</th>\n",
              "      <th>7</th>\n",
              "      <th>8</th>\n",
              "      <th>...</th>\n",
              "      <th>775</th>\n",
              "      <th>776</th>\n",
              "      <th>777</th>\n",
              "      <th>778</th>\n",
              "      <th>779</th>\n",
              "      <th>780</th>\n",
              "      <th>781</th>\n",
              "      <th>782</th>\n",
              "      <th>783</th>\n",
              "      <th>784</th>\n",
              "    </tr>\n",
              "  </thead>\n",
              "  <tbody>\n",
              "    <tr>\n",
              "      <th>0</th>\n",
              "      <td>Salsa-Regular</td>\n",
              "      <td>6</td>\n",
              "      <td>0.0</td>\n",
              "      <td>0.0</td>\n",
              "      <td>0.0</td>\n",
              "      <td>0.0</td>\n",
              "      <td>0.0</td>\n",
              "      <td>0.0</td>\n",
              "      <td>0.0</td>\n",
              "      <td>0.0</td>\n",
              "      <td>...</td>\n",
              "      <td>0.0</td>\n",
              "      <td>0.0</td>\n",
              "      <td>0.0</td>\n",
              "      <td>0.0</td>\n",
              "      <td>0.0</td>\n",
              "      <td>0.0</td>\n",
              "      <td>0.0</td>\n",
              "      <td>0.0</td>\n",
              "      <td>0.0</td>\n",
              "      <td>0.0</td>\n",
              "    </tr>\n",
              "    <tr>\n",
              "      <th>1</th>\n",
              "      <td>MouseMemoirs-Regular</td>\n",
              "      <td>D</td>\n",
              "      <td>0.0</td>\n",
              "      <td>0.0</td>\n",
              "      <td>0.0</td>\n",
              "      <td>0.0</td>\n",
              "      <td>0.0</td>\n",
              "      <td>0.0</td>\n",
              "      <td>0.0</td>\n",
              "      <td>0.0</td>\n",
              "      <td>...</td>\n",
              "      <td>0.0</td>\n",
              "      <td>0.0</td>\n",
              "      <td>0.0</td>\n",
              "      <td>0.0</td>\n",
              "      <td>0.0</td>\n",
              "      <td>0.0</td>\n",
              "      <td>0.0</td>\n",
              "      <td>0.0</td>\n",
              "      <td>0.0</td>\n",
              "      <td>0.0</td>\n",
              "    </tr>\n",
              "    <tr>\n",
              "      <th>2</th>\n",
              "      <td>Creepster-Regular</td>\n",
              "      <td>f</td>\n",
              "      <td>0.0</td>\n",
              "      <td>0.0</td>\n",
              "      <td>0.0</td>\n",
              "      <td>0.0</td>\n",
              "      <td>0.0</td>\n",
              "      <td>0.0</td>\n",
              "      <td>0.0</td>\n",
              "      <td>0.0</td>\n",
              "      <td>...</td>\n",
              "      <td>0.0</td>\n",
              "      <td>0.0</td>\n",
              "      <td>0.0</td>\n",
              "      <td>0.0</td>\n",
              "      <td>0.0</td>\n",
              "      <td>0.0</td>\n",
              "      <td>0.0</td>\n",
              "      <td>0.0</td>\n",
              "      <td>0.0</td>\n",
              "      <td>0.0</td>\n",
              "    </tr>\n",
              "    <tr>\n",
              "      <th>3</th>\n",
              "      <td>SeoulNamsan-Light</td>\n",
              "      <td>/</td>\n",
              "      <td>0.0</td>\n",
              "      <td>0.0</td>\n",
              "      <td>0.0</td>\n",
              "      <td>0.0</td>\n",
              "      <td>0.0</td>\n",
              "      <td>0.0</td>\n",
              "      <td>0.0</td>\n",
              "      <td>0.0</td>\n",
              "      <td>...</td>\n",
              "      <td>0.0</td>\n",
              "      <td>0.0</td>\n",
              "      <td>0.0</td>\n",
              "      <td>0.0</td>\n",
              "      <td>0.0</td>\n",
              "      <td>0.0</td>\n",
              "      <td>0.0</td>\n",
              "      <td>0.0</td>\n",
              "      <td>0.0</td>\n",
              "      <td>0.0</td>\n",
              "    </tr>\n",
              "    <tr>\n",
              "      <th>4</th>\n",
              "      <td>HachiMaruPop-Regular</td>\n",
              "      <td>F</td>\n",
              "      <td>0.0</td>\n",
              "      <td>0.0</td>\n",
              "      <td>0.0</td>\n",
              "      <td>0.0</td>\n",
              "      <td>0.0</td>\n",
              "      <td>0.0</td>\n",
              "      <td>0.0</td>\n",
              "      <td>0.0</td>\n",
              "      <td>...</td>\n",
              "      <td>0.0</td>\n",
              "      <td>0.0</td>\n",
              "      <td>0.0</td>\n",
              "      <td>0.0</td>\n",
              "      <td>0.0</td>\n",
              "      <td>0.0</td>\n",
              "      <td>0.0</td>\n",
              "      <td>0.0</td>\n",
              "      <td>0.0</td>\n",
              "      <td>0.0</td>\n",
              "    </tr>\n",
              "  </tbody>\n",
              "</table>\n",
              "<p>5 rows × 786 columns</p>\n",
              "</div>\n",
              "      <button class=\"colab-df-convert\" onclick=\"convertToInteractive('df-2053c2e7-d619-4594-bc98-312563726a20')\"\n",
              "              title=\"Convert this dataframe to an interactive table.\"\n",
              "              style=\"display:none;\">\n",
              "        \n",
              "  <svg xmlns=\"http://www.w3.org/2000/svg\" height=\"24px\"viewBox=\"0 0 24 24\"\n",
              "       width=\"24px\">\n",
              "    <path d=\"M0 0h24v24H0V0z\" fill=\"none\"/>\n",
              "    <path d=\"M18.56 5.44l.94 2.06.94-2.06 2.06-.94-2.06-.94-.94-2.06-.94 2.06-2.06.94zm-11 1L8.5 8.5l.94-2.06 2.06-.94-2.06-.94L8.5 2.5l-.94 2.06-2.06.94zm10 10l.94 2.06.94-2.06 2.06-.94-2.06-.94-.94-2.06-.94 2.06-2.06.94z\"/><path d=\"M17.41 7.96l-1.37-1.37c-.4-.4-.92-.59-1.43-.59-.52 0-1.04.2-1.43.59L10.3 9.45l-7.72 7.72c-.78.78-.78 2.05 0 2.83L4 21.41c.39.39.9.59 1.41.59.51 0 1.02-.2 1.41-.59l7.78-7.78 2.81-2.81c.8-.78.8-2.07 0-2.86zM5.41 20L4 18.59l7.72-7.72 1.47 1.35L5.41 20z\"/>\n",
              "  </svg>\n",
              "      </button>\n",
              "      \n",
              "  <style>\n",
              "    .colab-df-container {\n",
              "      display:flex;\n",
              "      flex-wrap:wrap;\n",
              "      gap: 12px;\n",
              "    }\n",
              "\n",
              "    .colab-df-convert {\n",
              "      background-color: #E8F0FE;\n",
              "      border: none;\n",
              "      border-radius: 50%;\n",
              "      cursor: pointer;\n",
              "      display: none;\n",
              "      fill: #1967D2;\n",
              "      height: 32px;\n",
              "      padding: 0 0 0 0;\n",
              "      width: 32px;\n",
              "    }\n",
              "\n",
              "    .colab-df-convert:hover {\n",
              "      background-color: #E2EBFA;\n",
              "      box-shadow: 0px 1px 2px rgba(60, 64, 67, 0.3), 0px 1px 3px 1px rgba(60, 64, 67, 0.15);\n",
              "      fill: #174EA6;\n",
              "    }\n",
              "\n",
              "    [theme=dark] .colab-df-convert {\n",
              "      background-color: #3B4455;\n",
              "      fill: #D2E3FC;\n",
              "    }\n",
              "\n",
              "    [theme=dark] .colab-df-convert:hover {\n",
              "      background-color: #434B5C;\n",
              "      box-shadow: 0px 1px 3px 1px rgba(0, 0, 0, 0.15);\n",
              "      filter: drop-shadow(0px 1px 2px rgba(0, 0, 0, 0.3));\n",
              "      fill: #FFFFFF;\n",
              "    }\n",
              "  </style>\n",
              "\n",
              "      <script>\n",
              "        const buttonEl =\n",
              "          document.querySelector('#df-2053c2e7-d619-4594-bc98-312563726a20 button.colab-df-convert');\n",
              "        buttonEl.style.display =\n",
              "          google.colab.kernel.accessAllowed ? 'block' : 'none';\n",
              "\n",
              "        async function convertToInteractive(key) {\n",
              "          const element = document.querySelector('#df-2053c2e7-d619-4594-bc98-312563726a20');\n",
              "          const dataTable =\n",
              "            await google.colab.kernel.invokeFunction('convertToInteractive',\n",
              "                                                     [key], {});\n",
              "          if (!dataTable) return;\n",
              "\n",
              "          const docLinkHtml = 'Like what you see? Visit the ' +\n",
              "            '<a target=\"_blank\" href=https://colab.research.google.com/notebooks/data_table.ipynb>data table notebook</a>'\n",
              "            + ' to learn more about interactive tables.';\n",
              "          element.innerHTML = '';\n",
              "          dataTable['output_type'] = 'display_data';\n",
              "          await google.colab.output.renderOutput(dataTable, element);\n",
              "          const docLink = document.createElement('div');\n",
              "          docLink.innerHTML = docLinkHtml;\n",
              "          element.appendChild(docLink);\n",
              "        }\n",
              "      </script>\n",
              "    </div>\n",
              "  </div>\n",
              "  "
            ]
          },
          "metadata": {},
          "execution_count": 5
        },
        {
          "output_type": "stream",
          "name": "stdout",
          "text": [
            "Warning: Total number of columns (786) exceeds max_columns (20) limiting to first (20) columns.\n"
          ]
        }
      ],
      "source": [
        "# Reading Data\n",
        "url = \"/content/drive/MyDrive/94_character_TMNIST.csv\"\n",
        "#df = h2o.import_file(path = url)\n",
        "drive.mount('/content/drive')\n",
        "\n",
        "df = pd.read_csv(url)\n",
        "df.head()"
      ]
    },
    {
      "cell_type": "markdown",
      "id": "ee2102a9",
      "metadata": {
        "papermill": {
          "duration": 0.022392,
          "end_time": "2022-03-06T04:53:57.055316",
          "exception": false,
          "start_time": "2022-03-06T04:53:57.032924",
          "status": "completed"
        },
        "tags": [],
        "id": "ee2102a9"
      },
      "source": [
        "<h2 style='text-align:center;font-family:Comic Sans MS;font-size:40px;background-color:lightseagreen;border:20px;color:white'>Spliting input and labels</h2>\n",
        "We will need this splitting in order to correctly label the predictions"
      ]
    },
    {
      "cell_type": "code",
      "source": [
        "# Grouping All labels\n",
        "all_ = list(df['labels'].unique())\n",
        "pattern_uc = re.compile(r\"[A-Z]\")\n",
        "print (pattern_uc)"
      ],
      "metadata": {
        "colab": {
          "base_uri": "https://localhost:8080/"
        },
        "id": "TCdqgmQ92hvh",
        "outputId": "9800f68e-433f-4d54-f4ac-dcc6f2ba871a"
      },
      "id": "TCdqgmQ92hvh",
      "execution_count": null,
      "outputs": [
        {
          "output_type": "stream",
          "name": "stdout",
          "text": [
            "re.compile('[A-Z]')\n"
          ]
        }
      ]
    },
    {
      "cell_type": "code",
      "execution_count": null,
      "id": "be1c05d7",
      "metadata": {
        "execution": {
          "iopub.execute_input": "2022-03-06T04:53:57.123544Z",
          "iopub.status.busy": "2022-03-06T04:53:57.110386Z",
          "iopub.status.idle": "2022-03-06T04:53:57.229361Z",
          "shell.execute_reply": "2022-03-06T04:53:57.228875Z"
        },
        "papermill": {
          "duration": 0.152065,
          "end_time": "2022-03-06T04:53:57.229484",
          "exception": false,
          "start_time": "2022-03-06T04:53:57.077419",
          "status": "completed"
        },
        "tags": [],
        "colab": {
          "base_uri": "https://localhost:8080/"
        },
        "id": "be1c05d7",
        "outputId": "c025969b-e7e2-4360-893a-d6b430296466"
      },
      "outputs": [
        {
          "output_type": "stream",
          "name": "stdout",
          "text": [
            "['[', '+', '-', '?', '/', '.', '<', \"'\", '}', '(', ' ', '_', '=', '@', '%', '\\\\', '`', '>', '#', '!', '\"', '~', ',', '$', '^', ')', '|', ']', '*', ';', '{', '&', ':']\n",
            "5\n"
          ]
        }
      ],
      "source": [
        "# Grouping All labels\n",
        "all_ = list(df['labels'].unique())\n",
        "\n",
        "# Regex Pattern to check alphabets, digits and special symbols\n",
        "pattern_uc = re.compile(r\"[A-Z]\")\n",
        "pattern_lc = re.compile(r\"[a-z]\")\n",
        "pattern_numbers = re.compile(r\"[0-9]\")\n",
        "pattern_symbols = re.compile(r\"[\\W]|[\\_\\,]\")\n",
        "\n",
        "# Extracting Pattern\n",
        "lower_case = pattern_lc.findall(str(all_))\n",
        "Upper_case = pattern_uc.findall(str(all_))\n",
        "Numbers_ = pattern_numbers.findall(str(all_))\n",
        "Symbols_ = list(set(pattern_symbols.findall(str(all_))))\n",
        "print(Symbols_)\n",
        "\n",
        "# Creating Gropus\n",
        "group = 1\n",
        "for list_ in (lower_case,Upper_case,Numbers_,Symbols_):\n",
        "    df.loc[df['labels'].isin(list_), 'group'] = str(group)\n",
        "    group += 1\n",
        "print(group)"
      ]
    },
    {
      "cell_type": "code",
      "execution_count": null,
      "id": "0ad84bab",
      "metadata": {
        "_kg_hide-input": true,
        "execution": {
          "iopub.execute_input": "2022-03-06T04:53:57.778214Z",
          "iopub.status.busy": "2022-03-06T04:53:57.776815Z",
          "iopub.status.idle": "2022-03-06T04:53:58.119241Z",
          "shell.execute_reply": "2022-03-06T04:53:58.118764Z"
        },
        "papermill": {
          "duration": 0.867353,
          "end_time": "2022-03-06T04:53:58.119368",
          "exception": false,
          "start_time": "2022-03-06T04:53:57.252015",
          "status": "completed"
        },
        "tags": [],
        "id": "0ad84bab"
      },
      "outputs": [],
      "source": [
        "# defining X and y for training\n",
        "X = df.iloc[:, 2:-1].astype('float32') \n",
        "y  = df[['labels']] "
      ]
    },
    {
      "cell_type": "code",
      "execution_count": null,
      "id": "c195f464",
      "metadata": {
        "_kg_hide-input": true,
        "execution": {
          "iopub.execute_input": "2022-03-06T04:53:58.182708Z",
          "iopub.status.busy": "2022-03-06T04:53:58.181946Z",
          "iopub.status.idle": "2022-03-06T04:53:58.203261Z",
          "shell.execute_reply": "2022-03-06T04:53:58.202837Z"
        },
        "papermill": {
          "duration": 0.060987,
          "end_time": "2022-03-06T04:53:58.203366",
          "exception": false,
          "start_time": "2022-03-06T04:53:58.142379",
          "status": "completed"
        },
        "tags": [],
        "id": "c195f464"
      },
      "outputs": [],
      "source": [
        "#preping the data to create dictionary\n",
        "labels = y['labels'].unique()\n",
        "values = [num for num in range(len(df['labels'].unique()))]\n",
        "label_dict= dict(zip(labels,values)) #Creating Dictionary \n",
        "label_dict_inv = dict(zip(values,labels))"
      ]
    },
    {
      "cell_type": "code",
      "execution_count": null,
      "id": "963644b7",
      "metadata": {
        "_kg_hide-input": true,
        "execution": {
          "iopub.execute_input": "2022-03-06T04:53:58.281555Z",
          "iopub.status.busy": "2022-03-06T04:53:58.280219Z",
          "iopub.status.idle": "2022-03-06T04:53:59.545730Z",
          "shell.execute_reply": "2022-03-06T04:53:59.545206Z"
        },
        "papermill": {
          "duration": 1.319838,
          "end_time": "2022-03-06T04:53:59.545866",
          "exception": false,
          "start_time": "2022-03-06T04:53:58.226028",
          "status": "completed"
        },
        "tags": [],
        "id": "963644b7"
      },
      "outputs": [],
      "source": [
        "# Mapping\n",
        "y['labels'].replace(label_dict, inplace=True) #Maping Values"
      ]
    },
    {
      "cell_type": "code",
      "execution_count": null,
      "id": "a9ed8fa3",
      "metadata": {
        "execution": {
          "iopub.execute_input": "2022-03-06T04:53:59.596240Z",
          "iopub.status.busy": "2022-03-06T04:53:59.595703Z",
          "iopub.status.idle": "2022-03-06T04:53:59.598713Z",
          "shell.execute_reply": "2022-03-06T04:53:59.599118Z"
        },
        "papermill": {
          "duration": 0.030116,
          "end_time": "2022-03-06T04:53:59.599238",
          "exception": false,
          "start_time": "2022-03-06T04:53:59.569122",
          "status": "completed"
        },
        "tags": [],
        "colab": {
          "base_uri": "https://localhost:8080/"
        },
        "id": "a9ed8fa3",
        "outputId": "f3c8dfab-4df3-4bbe-ec0e-502bf3ff4407"
      },
      "outputs": [
        {
          "output_type": "stream",
          "name": "stdout",
          "text": [
            "{'6': 0, 'D': 1, 'f': 2, '/': 3, 'F': 4, 'x': 5, 'J': 6, '8': 7, 'H': 8, 'k': 9, '@': 10, '1': 11, '=': 12, 'g': 13, ')': 14, '2': 15, 'd': 16, '^': 17, '3': 18, 't': 19, '#': 20, '.': 21, '4': 22, 'o': 23, '\"': 24, 'y': 25, 'A': 26, 'u': 27, 'G': 28, '-': 29, 'm': 30, 'W': 31, '&': 32, 'c': 33, '9': 34, 'N': 35, ']': 36, 'P': 37, 'X': 38, '|': 39, '}': 40, 'h': 41, '7': 42, 'j': 43, '5': 44, '>': 45, '?': 46, 'b': 47, '*': 48, 'w': 49, 'l': 50, '0': 51, '$': 52, 'I': 53, 'Y': 54, '%': 55, ':': 56, 'T': 57, 'K': 58, 'E': 59, '<': 60, 'V': 61, '{': 62, 'M': 63, 'S': 64, 'a': 65, 'i': 66, 'r': 67, \"'\": 68, 'p': 69, ';': 70, '[': 71, '+': 72, 'e': 73, 'U': 74, '(': 75, 's': 76, '~': 77, ',': 78, 'C': 79, 'q': 80, '_': 81, 'n': 82, 'B': 83, 'z': 84, 'v': 85, 'O': 86, 'R': 87, '`': 88, 'Z': 89, 'Q': 90, 'L': 91, '!': 92, '\\\\': 93}\n"
          ]
        }
      ],
      "source": [
        "#Checking the mappings\n",
        "print(label_dict)"
      ]
    },
    {
      "cell_type": "markdown",
      "id": "2dae0284",
      "metadata": {
        "execution": {
          "iopub.execute_input": "2021-09-07T01:56:11.33205Z",
          "iopub.status.busy": "2021-09-07T01:56:11.331636Z",
          "iopub.status.idle": "2021-09-07T01:56:11.336283Z",
          "shell.execute_reply": "2021-09-07T01:56:11.335595Z",
          "shell.execute_reply.started": "2021-09-07T01:56:11.332015Z"
        },
        "papermill": {
          "duration": 0.023011,
          "end_time": "2022-03-06T04:53:59.645307",
          "exception": false,
          "start_time": "2022-03-06T04:53:59.622296",
          "status": "completed"
        },
        "tags": [],
        "id": "2dae0284"
      },
      "source": [
        "<h2 style='text-align:center;font-family:Comic Sans MS;font-size:40px;background-color:lightseagreen;border:20px;color:white'>Creating Training and Test Sets</h2>"
      ]
    },
    {
      "cell_type": "code",
      "execution_count": null,
      "id": "f958a33b",
      "metadata": {
        "_kg_hide-input": true,
        "execution": {
          "iopub.execute_input": "2022-03-06T04:53:59.699226Z",
          "iopub.status.busy": "2022-03-06T04:53:59.698502Z",
          "iopub.status.idle": "2022-03-06T04:54:00.705073Z",
          "shell.execute_reply": "2022-03-06T04:54:00.704447Z"
        },
        "papermill": {
          "duration": 1.036763,
          "end_time": "2022-03-06T04:54:00.705214",
          "exception": false,
          "start_time": "2022-03-06T04:53:59.668451",
          "status": "completed"
        },
        "tags": [],
        "id": "f958a33b"
      },
      "outputs": [],
      "source": [
        "# creating test train split of 80% and 20%\n",
        "X_train, X_test, y_train, y_test = train_test_split(X, y, test_size = 0.2)"
      ]
    },
    {
      "cell_type": "code",
      "execution_count": null,
      "id": "927eb150",
      "metadata": {
        "_kg_hide-input": true,
        "execution": {
          "iopub.execute_input": "2022-03-06T04:54:00.758857Z",
          "iopub.status.busy": "2022-03-06T04:54:00.758055Z",
          "iopub.status.idle": "2022-03-06T04:54:00.800114Z",
          "shell.execute_reply": "2022-03-06T04:54:00.799686Z"
        },
        "papermill": {
          "duration": 0.071473,
          "end_time": "2022-03-06T04:54:00.800233",
          "exception": false,
          "start_time": "2022-03-06T04:54:00.728760",
          "status": "completed"
        },
        "tags": [],
        "colab": {
          "base_uri": "https://localhost:8080/"
        },
        "id": "927eb150",
        "outputId": "a03b5620-1146-46bc-f0f6-5a6b07de82ba"
      },
      "outputs": [
        {
          "output_type": "stream",
          "name": "stdout",
          "text": [
            "X:Train, Test data shape:(219274, 28, 28),(54819, 28, 28)\n",
            "Y:Train, Test data shape:(219274, 94),(54819, 94)\n"
          ]
        }
      ],
      "source": [
        "# preping the inputs for training\n",
        "Length, Height = 28,28\n",
        "NCl = y_train.nunique()[0] # Unique targets\n",
        "\n",
        "# N of images 28x28\n",
        "X_train = np.reshape(X_train.values, (X_train.shape[0] ,Length, Height)) \n",
        "X_test = np.reshape(X_test.values, (X_test.shape[0] ,Length, Height))\n",
        "\n",
        "# Target into Categorical Values\n",
        "y_train = to_categorical(y_train, NCl, dtype='int' )\n",
        "y_test = to_categorical(y_test, NCl, dtype='int' )\n",
        "\n",
        "print(f'X:Train, Test data shape:{X_train.shape},{X_test.shape}')\n",
        "print(f'Y:Train, Test data shape:{y_train.shape},{y_test.shape}')"
      ]
    },
    {
      "cell_type": "markdown",
      "id": "dc585234",
      "metadata": {
        "papermill": {
          "duration": 0.023658,
          "end_time": "2022-03-06T04:54:00.847779",
          "exception": false,
          "start_time": "2022-03-06T04:54:00.824121",
          "status": "completed"
        },
        "tags": [],
        "id": "dc585234"
      },
      "source": [
        "<h2 style='text-align:center;font-family:Comic Sans MS;font-size:40px;background-color:lightseagreen;border:20px;color:white'>Showing samples from the Dataset</h2>"
      ]
    },
    {
      "cell_type": "code",
      "execution_count": null,
      "id": "d4c4de46",
      "metadata": {
        "execution": {
          "iopub.execute_input": "2022-03-06T04:54:00.901474Z",
          "iopub.status.busy": "2022-03-06T04:54:00.900757Z",
          "iopub.status.idle": "2022-03-06T04:54:02.070872Z",
          "shell.execute_reply": "2022-03-06T04:54:02.071444Z"
        },
        "papermill": {
          "duration": 1.200214,
          "end_time": "2022-03-06T04:54:02.071642",
          "exception": false,
          "start_time": "2022-03-06T04:54:00.871428",
          "status": "completed"
        },
        "tags": [],
        "colab": {
          "base_uri": "https://localhost:8080/",
          "height": 555
        },
        "id": "d4c4de46",
        "outputId": "ed302e55-2471-4ec0-f73c-0dd6a8683ce8"
      },
      "outputs": [
        {
          "output_type": "display_data",
          "data": {
            "text/plain": [
              "<Figure size 720x720 with 12 Axes>"
            ],
            "image/png": "[encoded data removed]"
          },
          "metadata": {
            "needs_background": "light"
          }
        }
      ],
      "source": [
        "# displaying the charecters of our dataset\n",
        "random = shuffle(X_train[:500]) #Randomly shuffle\n",
        "fig,ax = plt.subplots(3,4 , figsize = (10,10)) \n",
        "axes = ax.flatten()\n",
        "for i in range(12):\n",
        "    img = np.reshape(random[i], (28,28)) # reshaping it for displaying\n",
        "    axes[i].imshow(img, cmap=\"Greys\")\n",
        "    img_final =np.reshape(img, (1,28,28,1)) # reshapng it for passing into model for prediction\n",
        "    axes[i].grid()"
      ]
    },
    {
      "cell_type": "markdown",
      "id": "45597c4c",
      "metadata": {
        "execution": {
          "iopub.execute_input": "2021-09-07T02:23:28.040044Z",
          "iopub.status.busy": "2021-09-07T02:23:28.039647Z",
          "iopub.status.idle": "2021-09-07T02:23:28.051258Z",
          "shell.execute_reply": "2021-09-07T02:23:28.050481Z",
          "shell.execute_reply.started": "2021-09-07T02:23:28.040012Z"
        },
        "papermill": {
          "duration": 0.025495,
          "end_time": "2022-03-06T04:54:02.123005",
          "exception": false,
          "start_time": "2022-03-06T04:54:02.097510",
          "status": "completed"
        },
        "tags": [],
        "id": "45597c4c"
      },
      "source": [
        "<h2 style='text-align:center;font-family:Comic Sans MS;font-size:40px;background-color:lightseagreen;border:20px;color:white'>Importing libraries for building Neural Networks</h2>\n"
      ]
    },
    {
      "cell_type": "code",
      "execution_count": null,
      "id": "7937dac2",
      "metadata": {
        "_kg_hide-input": true,
        "execution": {
          "iopub.execute_input": "2022-03-06T04:54:02.178171Z",
          "iopub.status.busy": "2022-03-06T04:54:02.177248Z",
          "iopub.status.idle": "2022-03-06T04:54:02.181355Z",
          "shell.execute_reply": "2022-03-06T04:54:02.181802Z"
        },
        "papermill": {
          "duration": 0.03393,
          "end_time": "2022-03-06T04:54:02.181930",
          "exception": false,
          "start_time": "2022-03-06T04:54:02.148000",
          "status": "completed"
        },
        "tags": [],
        "id": "7937dac2"
      },
      "outputs": [],
      "source": [
        "# importing libraries for building neural netwrok\n",
        "from tensorflow.keras.models import Sequential,load_model\n",
        "from tensorflow.keras.layers import Dense, Conv2D, MaxPool2D,Flatten,Dropout,BatchNormalization\n",
        "from tensorflow.keras.optimizers import SGD, Adam, RMSprop\n",
        "from tensorflow.keras.callbacks import EarlyStopping"
      ]
    },
    {
      "cell_type": "markdown",
      "id": "25db9a10",
      "metadata": {
        "execution": {
          "iopub.execute_input": "2021-09-07T01:34:06.239039Z",
          "iopub.status.busy": "2021-09-07T01:34:06.2384Z",
          "iopub.status.idle": "2021-09-07T01:34:06.262235Z",
          "shell.execute_reply": "2021-09-07T01:34:06.261156Z",
          "shell.execute_reply.started": "2021-09-07T01:34:06.238985Z"
        },
        "papermill": {
          "duration": 0.044893,
          "end_time": "2022-03-06T04:54:02.260968",
          "exception": false,
          "start_time": "2022-03-06T04:54:02.216075",
          "status": "completed"
        },
        "tags": [],
        "id": "25db9a10"
      },
      "source": [
        "<h6 style='text-align:center;font-family:Comic Sans MS;font-size:40px;background-color:lightseagreen;border:20px;color:white'>Preping the input for CNN</h3>"
      ]
    },
    {
      "cell_type": "code",
      "execution_count": null,
      "id": "5326fe92",
      "metadata": {
        "_kg_hide-input": false,
        "execution": {
          "iopub.execute_input": "2022-03-06T04:54:02.358054Z",
          "iopub.status.busy": "2022-03-06T04:54:02.357102Z",
          "iopub.status.idle": "2022-03-06T04:54:02.650495Z",
          "shell.execute_reply": "2022-03-06T04:54:02.651175Z"
        },
        "papermill": {
          "duration": 0.342362,
          "end_time": "2022-03-06T04:54:02.651403",
          "exception": false,
          "start_time": "2022-03-06T04:54:02.309041",
          "status": "completed"
        },
        "tags": [],
        "colab": {
          "base_uri": "https://localhost:8080/"
        },
        "id": "5326fe92",
        "outputId": "3210a0e5-59e7-41f9-b78f-f2f30d091e8c"
      },
      "outputs": [
        {
          "output_type": "stream",
          "name": "stdout",
          "text": [
            "Train, Test shapes: (219274, 28, 28, 1),(54819, 28, 28, 1)\n"
          ]
        }
      ],
      "source": [
        "RGB = 1  # In this case only one instead of 3 because we dont have Color images\n",
        "X_train = X_train.reshape(X_train.shape[0], X_train.shape[1],X_train.shape[2], RGB)\n",
        "X_test = X_test.reshape(X_test.shape[0], X_test.shape[1], X_test.shape[2],RGB)\n",
        "\n",
        "#normalizing the image data\n",
        "X_train = X_train/255\n",
        "X_test = X_test/255\n",
        "print(f'Train, Test shapes: {X_train.shape},{X_test.shape}')"
      ]
    },
    {
      "cell_type": "markdown",
      "id": "c2d77c44",
      "metadata": {
        "papermill": {
          "duration": 0.043713,
          "end_time": "2022-03-06T04:54:02.738992",
          "exception": false,
          "start_time": "2022-03-06T04:54:02.695279",
          "status": "completed"
        },
        "tags": [],
        "id": "c2d77c44"
      },
      "source": [
        "<h6 style='text-align:center;font-family:Comic Sans MS;font-size:40px;background-color:lightseagreen;border:20px;color:white'>Building the CNN Architecture</h6>"
      ]
    },
    {
      "cell_type": "markdown",
      "id": "3ef86151",
      "metadata": {
        "papermill": {
          "duration": 0.042037,
          "end_time": "2022-03-06T04:54:02.825846",
          "exception": false,
          "start_time": "2022-03-06T04:54:02.783809",
          "status": "completed"
        },
        "tags": [],
        "id": "3ef86151"
      },
      "source": [
        "![](https://miro.medium.com/max/1200/1*XbuW8WuRrAY5pC4t-9DZAQ.jpeg)"
      ]
    },
    {
      "cell_type": "code",
      "execution_count": null,
      "id": "2f3c14b4",
      "metadata": {
        "_kg_hide-input": true,
        "execution": {
          "iopub.execute_input": "2022-03-06T04:54:02.920176Z",
          "iopub.status.busy": "2022-03-06T04:54:02.919414Z",
          "iopub.status.idle": "2022-03-06T04:54:05.029305Z",
          "shell.execute_reply": "2022-03-06T04:54:05.029751Z"
        },
        "papermill": {
          "duration": 2.16161,
          "end_time": "2022-03-06T04:54:05.029905",
          "exception": false,
          "start_time": "2022-03-06T04:54:02.868295",
          "status": "completed"
        },
        "tags": [],
        "colab": {
          "base_uri": "https://localhost:8080/"
        },
        "id": "2f3c14b4",
        "outputId": "d9ef7fb9-f652-473b-d214-294b69cc7885"
      },
      "outputs": [
        {
          "output_type": "stream",
          "name": "stdout",
          "text": [
            "Model: \"sequential\"\n",
            "_________________________________________________________________\n",
            " Layer (type)                Output Shape              Param #   \n",
            "=================================================================\n",
            " conv2d (Conv2D)             (None, 28, 28, 32)        320       \n",
            "                                                                 \n",
            " batch_normalization (BatchN  (None, 28, 28, 32)       128       \n",
            " ormalization)                                                   \n",
            "                                                                 \n",
            " activation (Activation)     (None, 28, 28, 32)        0         \n",
            "                                                                 \n",
            " max_pooling2d (MaxPooling2D  (None, 14, 14, 32)       0         \n",
            " )                                                               \n",
            "                                                                 \n",
            " dropout (Dropout)           (None, 14, 14, 32)        0         \n",
            "                                                                 \n",
            " conv2d_1 (Conv2D)           (None, 14, 14, 64)        18496     \n",
            "                                                                 \n",
            " batch_normalization_1 (Batc  (None, 14, 14, 64)       256       \n",
            " hNormalization)                                                 \n",
            "                                                                 \n",
            " activation_1 (Activation)   (None, 14, 14, 64)        0         \n",
            "                                                                 \n",
            " max_pooling2d_1 (MaxPooling  (None, 7, 7, 64)         0         \n",
            " 2D)                                                             \n",
            "                                                                 \n",
            " dropout_1 (Dropout)         (None, 7, 7, 64)          0         \n",
            "                                                                 \n",
            " conv2d_2 (Conv2D)           (None, 7, 7, 128)         73856     \n",
            "                                                                 \n",
            " batch_normalization_2 (Batc  (None, 7, 7, 128)        512       \n",
            " hNormalization)                                                 \n",
            "                                                                 \n",
            " activation_2 (Activation)   (None, 7, 7, 128)         0         \n",
            "                                                                 \n",
            " max_pooling2d_2 (MaxPooling  (None, 3, 3, 128)        0         \n",
            " 2D)                                                             \n",
            "                                                                 \n",
            " dropout_2 (Dropout)         (None, 3, 3, 128)         0         \n",
            "                                                                 \n",
            " conv2d_3 (Conv2D)           (None, 3, 3, 256)         295168    \n",
            "                                                                 \n",
            " batch_normalization_3 (Batc  (None, 3, 3, 256)        1024      \n",
            " hNormalization)                                                 \n",
            "                                                                 \n",
            " activation_3 (Activation)   (None, 3, 3, 256)         0         \n",
            "                                                                 \n",
            " max_pooling2d_3 (MaxPooling  (None, 1, 1, 256)        0         \n",
            " 2D)                                                             \n",
            "                                                                 \n",
            " dropout_3 (Dropout)         (None, 1, 1, 256)         0         \n",
            "                                                                 \n",
            " flatten (Flatten)           (None, 256)               0         \n",
            "                                                                 \n",
            " dense (Dense)               (None, 350)               89950     \n",
            "                                                                 \n",
            " batch_normalization_4 (Batc  (None, 350)              1400      \n",
            " hNormalization)                                                 \n",
            "                                                                 \n",
            " activation_4 (Activation)   (None, 350)               0         \n",
            "                                                                 \n",
            " dropout_4 (Dropout)         (None, 350)               0         \n",
            "                                                                 \n",
            " dense_1 (Dense)             (None, 94)                32994     \n",
            "                                                                 \n",
            "=================================================================\n",
            "Total params: 514,104\n",
            "Trainable params: 512,444\n",
            "Non-trainable params: 1,660\n",
            "_________________________________________________________________\n"
          ]
        }
      ],
      "source": [
        "model = Sequential ()\n",
        "\n",
        "# 4 Conv with Maxpool and Dropout [25%] -> Flatten - >  Dense -> Dense -> output \n",
        "model.add(Conv2D(filters = 32 , kernel_size = (3,3),input_shape = (Length, Height, RGB), padding = 'same',))\n",
        "model.add(BatchNormalization())\n",
        "model.add(tf.keras.layers.Activation('relu'))\n",
        "model.add(MaxPool2D(pool_size = (2,2)))\n",
        "model.add(Dropout(0.25))\n",
        "\n",
        "model.add(Conv2D(filters = 64 , kernel_size = (3,3) ,padding = 'same'))\n",
        "model.add(BatchNormalization())\n",
        "model.add(tf.keras.layers.Activation('relu'))\n",
        "model.add(MaxPool2D(pool_size = (2,2)))\n",
        "model.add(Dropout(0.25))\n",
        "\n",
        "model.add(Conv2D(filters = 128 , kernel_size = (3,3) ,padding = 'same'))\n",
        "model.add(BatchNormalization())\n",
        "model.add(tf.keras.layers.Activation('relu'))\n",
        "model.add(MaxPool2D(pool_size = (2,2)))\n",
        "model.add(Dropout(0.25))\n",
        "\n",
        "model.add(Conv2D(filters = 256 , kernel_size = (3,3) ,padding = 'same'))\n",
        "model.add(BatchNormalization())\n",
        "model.add(tf.keras.layers.Activation('relu'))\n",
        "model.add(MaxPool2D(pool_size = (2,2)))\n",
        "model.add(Dropout(0.25))\n",
        "\n",
        "model.add(Flatten())\n",
        "model.add(Dense(350))\n",
        "model.add(BatchNormalization())\n",
        "model.add(tf.keras.layers.Activation('relu'))\n",
        "model.add(Dropout(0.25))\n",
        "model.add(Dense(NCl, activation = 'softmax'))\n",
        "model.summary()"
      ]
    },
    {
      "cell_type": "code",
      "execution_count": null,
      "id": "a1ccc6a6",
      "metadata": {
        "execution": {
          "iopub.execute_input": "2022-03-06T04:54:05.093503Z",
          "iopub.status.busy": "2022-03-06T04:54:05.092705Z",
          "iopub.status.idle": "2022-03-06T04:54:05.099261Z",
          "shell.execute_reply": "2022-03-06T04:54:05.098472Z"
        },
        "papermill": {
          "duration": 0.041827,
          "end_time": "2022-03-06T04:54:05.099385",
          "exception": false,
          "start_time": "2022-03-06T04:54:05.057558",
          "status": "completed"
        },
        "tags": [],
        "id": "a1ccc6a6"
      },
      "outputs": [],
      "source": [
        "#defining parameters for training\n",
        "optimizer  = Adam(learning_rate=0.01)\n",
        "callback =EarlyStopping(monitor='loss', patience=5)\n",
        "Batch_ = 64\n",
        "Epochs_ = 20\n",
        "\n",
        "model.compile(loss = 'categorical_crossentropy', optimizer = optimizer, metrics = ['accuracy'])\n"
      ]
    },
    {
      "cell_type": "markdown",
      "id": "30d6eb08",
      "metadata": {
        "papermill": {
          "duration": 0.026383,
          "end_time": "2022-03-06T04:54:05.152520",
          "exception": false,
          "start_time": "2022-03-06T04:54:05.126137",
          "status": "completed"
        },
        "tags": [],
        "id": "30d6eb08"
      },
      "source": [
        "<h6 style='text-align:center;font-family:Comic Sans MS;font-size:40px;background-color:lightseagreen;border:20px;color:white'>Training the model</h6>"
      ]
    },
    {
      "cell_type": "code",
      "execution_count": null,
      "id": "8b8a5a0c",
      "metadata": {
        "execution": {
          "iopub.execute_input": "2022-03-06T04:54:05.210424Z",
          "iopub.status.busy": "2022-03-06T04:54:05.209578Z",
          "iopub.status.idle": "2022-03-06T05:31:29.912474Z",
          "shell.execute_reply": "2022-03-06T05:31:29.911983Z"
        },
        "papermill": {
          "duration": 2244.733571,
          "end_time": "2022-03-06T05:31:29.912640",
          "exception": false,
          "start_time": "2022-03-06T04:54:05.179069",
          "status": "completed"
        },
        "tags": [],
        "colab": {
          "base_uri": "https://localhost:8080/"
        },
        "id": "8b8a5a0c",
        "outputId": "2f45b918-1ab6-4a91-cfc2-aca3d6ce8f56"
      },
      "outputs": [
        {
          "output_type": "stream",
          "name": "stdout",
          "text": [
            "Epoch 1/20\n",
            "3427/3427 [==============================] - 760s 221ms/step - loss: 0.3275 - accuracy: 0.8991 - val_loss: 0.2417 - val_accuracy: 0.9229\n",
            "Epoch 2/20\n",
            "3427/3427 [==============================] - 748s 218ms/step - loss: 0.3120 - accuracy: 0.9032 - val_loss: 0.2350 - val_accuracy: 0.9218\n",
            "Epoch 3/20\n",
            "3427/3427 [==============================] - 736s 215ms/step - loss: 0.3029 - accuracy: 0.9060 - val_loss: 0.2252 - val_accuracy: 0.9283\n",
            "Epoch 4/20\n",
            "3427/3427 [==============================] - 747s 218ms/step - loss: 0.2937 - accuracy: 0.9079 - val_loss: 0.2195 - val_accuracy: 0.9283\n",
            "Epoch 5/20\n",
            "3427/3427 [==============================] - 748s 218ms/step - loss: 0.2892 - accuracy: 0.9092 - val_loss: 0.2148 - val_accuracy: 0.9303\n",
            "Epoch 6/20\n",
            "3427/3427 [==============================] - 744s 217ms/step - loss: 0.2826 - accuracy: 0.9114 - val_loss: 0.2068 - val_accuracy: 0.9335\n",
            "Epoch 7/20\n",
            "3427/3427 [==============================] - 730s 213ms/step - loss: 0.2789 - accuracy: 0.9124 - val_loss: 0.2187 - val_accuracy: 0.9327\n",
            "Epoch 8/20\n",
            "3427/3427 [==============================] - 743s 217ms/step - loss: 0.2765 - accuracy: 0.9128 - val_loss: 0.2024 - val_accuracy: 0.9352\n",
            "Epoch 9/20\n",
            "3427/3427 [==============================] - 743s 217ms/step - loss: 0.2734 - accuracy: 0.9138 - val_loss: 0.1996 - val_accuracy: 0.9346\n",
            "Epoch 10/20\n",
            "3427/3427 [==============================] - 749s 219ms/step - loss: 0.2671 - accuracy: 0.9157 - val_loss: 0.1986 - val_accuracy: 0.9353\n",
            "Epoch 11/20\n",
            "3427/3427 [==============================] - 741s 216ms/step - loss: 0.2676 - accuracy: 0.9157 - val_loss: 0.2075 - val_accuracy: 0.9316\n",
            "Epoch 12/20\n",
            "3427/3427 [==============================] - 751s 219ms/step - loss: 0.2609 - accuracy: 0.9174 - val_loss: 0.1972 - val_accuracy: 0.9359\n",
            "Epoch 13/20\n",
            "3427/3427 [==============================] - 756s 221ms/step - loss: 0.2613 - accuracy: 0.9170 - val_loss: 0.1999 - val_accuracy: 0.9372\n",
            "Epoch 14/20\n",
            "3427/3427 [==============================] - 756s 221ms/step - loss: 0.2598 - accuracy: 0.9176 - val_loss: 0.1912 - val_accuracy: 0.9371\n",
            "Epoch 15/20\n",
            "3427/3427 [==============================] - 750s 219ms/step - loss: 0.2578 - accuracy: 0.9186 - val_loss: 0.2041 - val_accuracy: 0.9357\n",
            "Epoch 16/20\n",
            "3427/3427 [==============================] - 748s 218ms/step - loss: 0.2542 - accuracy: 0.9194 - val_loss: 0.1928 - val_accuracy: 0.9372\n",
            "Epoch 17/20\n",
            "3427/3427 [==============================] - 749s 219ms/step - loss: 0.2542 - accuracy: 0.9199 - val_loss: 0.2012 - val_accuracy: 0.9337\n",
            "Epoch 18/20\n",
            "3427/3427 [==============================] - 751s 219ms/step - loss: 0.2536 - accuracy: 0.9194 - val_loss: 0.2067 - val_accuracy: 0.9319\n",
            "Epoch 19/20\n",
            "3427/3427 [==============================] - 755s 220ms/step - loss: 0.2535 - accuracy: 0.9195 - val_loss: 0.1925 - val_accuracy: 0.9374\n",
            "Epoch 20/20\n",
            "3427/3427 [==============================] - 755s 220ms/step - loss: 0.2509 - accuracy: 0.9204 - val_loss: 0.1951 - val_accuracy: 0.9366\n"
          ]
        }
      ],
      "source": [
        "#Training\n",
        "history= model.fit(X_train,y_train, validation_data = (X_test,y_test),batch_size = Batch_ ,\n",
        "                   epochs = Epochs_, verbose = 1)"
      ]
    },
    {
      "cell_type": "markdown",
      "id": "d807a41c",
      "metadata": {
        "papermill": {
          "duration": 12.237695,
          "end_time": "2022-03-06T05:31:53.934650",
          "exception": false,
          "start_time": "2022-03-06T05:31:41.696955",
          "status": "completed"
        },
        "tags": [],
        "id": "d807a41c"
      },
      "source": [
        "<h6 style='text-align:center;font-family:Comic Sans MS;font-size:40px;background-color:lightseagreen;border:20px;color:white'>Evaluating the model</h6>"
      ]
    },
    {
      "cell_type": "code",
      "execution_count": null,
      "id": "2afeb7cd",
      "metadata": {
        "execution": {
          "iopub.execute_input": "2022-03-06T05:32:17.440448Z",
          "iopub.status.busy": "2022-03-06T05:32:17.439635Z",
          "iopub.status.idle": "2022-03-06T05:32:19.949213Z",
          "shell.execute_reply": "2022-03-06T05:32:19.949976Z"
        },
        "papermill": {
          "duration": 14.21982,
          "end_time": "2022-03-06T05:32:19.950186",
          "exception": false,
          "start_time": "2022-03-06T05:32:05.730366",
          "status": "completed"
        },
        "tags": [],
        "colab": {
          "base_uri": "https://localhost:8080/"
        },
        "id": "2afeb7cd",
        "outputId": "ee340c70-f1e2-45f0-a12c-26f9c7ffe44d"
      },
      "outputs": [
        {
          "output_type": "stream",
          "name": "stdout",
          "text": [
            "Test Accuracy:93.66%\n"
          ]
        }
      ],
      "source": [
        "#Evaluating model accuracy on test data\n",
        "score = model.evaluate(X_test,y_test, batch_size = Batch_,verbose = 0)\n",
        "print(f\"Test Accuracy:{round(score[1],4)*100}%\")\n"
      ]
    },
    {
      "cell_type": "markdown",
      "id": "ab57cb12",
      "metadata": {
        "papermill": {
          "duration": 11.926426,
          "end_time": "2022-03-06T05:32:44.124720",
          "exception": false,
          "start_time": "2022-03-06T05:32:32.198294",
          "status": "completed"
        },
        "tags": [],
        "id": "ab57cb12"
      },
      "source": [
        "<h2 style='text-align:center;font-family:Comic Sans MS;font-size:40px;background-color:lightseagreen;border:20px;color:white'>Visalizing the model performance</h2>"
      ]
    },
    {
      "cell_type": "code",
      "execution_count": null,
      "id": "5e02c037",
      "metadata": {
        "execution": {
          "iopub.execute_input": "2022-03-06T05:33:08.422997Z",
          "iopub.status.busy": "2022-03-06T05:33:08.422188Z",
          "iopub.status.idle": "2022-03-06T05:33:08.424842Z",
          "shell.execute_reply": "2022-03-06T05:33:08.424332Z"
        },
        "papermill": {
          "duration": 11.771858,
          "end_time": "2022-03-06T05:33:08.424963",
          "exception": false,
          "start_time": "2022-03-06T05:32:56.653105",
          "status": "completed"
        },
        "tags": [],
        "id": "5e02c037"
      },
      "outputs": [],
      "source": [
        "# Function for Plotting\n",
        "def Plott (data):\n",
        "    fig, ax = plt.subplots(1,2 , figsize = (20,7))\n",
        "    # summarize history for accuracy\n",
        "    ax[0].plot(data.history['accuracy'])\n",
        "    ax[0].plot(data.history['val_accuracy'])\n",
        "    ax[0].set_title('model accuracy')\n",
        "    ax[0].legend(['train', 'test'], loc='upper left')\n",
        "\n",
        "    # summarize history for loss\n",
        "    ax[1].plot(data.history['loss'], label =['loss'])\n",
        "    ax[1].plot(data.history['val_loss'] ,label =['val_loss'])\n",
        "    ax[1].set_title('model loss')\n",
        "    ax[1].legend(['train', 'test'], loc='upper left')\n",
        "    plt.show()"
      ]
    },
    {
      "cell_type": "code",
      "execution_count": null,
      "id": "34790b7a",
      "metadata": {
        "execution": {
          "iopub.execute_input": "2022-03-06T05:33:32.535136Z",
          "iopub.status.busy": "2022-03-06T05:33:32.534290Z",
          "iopub.status.idle": "2022-03-06T05:33:32.825746Z",
          "shell.execute_reply": "2022-03-06T05:33:32.825293Z"
        },
        "papermill": {
          "duration": 12.446351,
          "end_time": "2022-03-06T05:33:32.825875",
          "exception": false,
          "start_time": "2022-03-06T05:33:20.379524",
          "status": "completed"
        },
        "tags": [],
        "colab": {
          "base_uri": "https://localhost:8080/",
          "height": 444
        },
        "id": "34790b7a",
        "outputId": "53265cd0-9c48-4075-c227-1657e3f987ad"
      },
      "outputs": [
        {
          "output_type": "display_data",
          "data": {
            "text/plain": [
              "<Figure size 1440x504 with 2 Axes>"
            ],
            "image/png": "[encoded data removed]"
          },
          "metadata": {
            "needs_background": "light"
          }
        }
      ],
      "source": [
        "Plott(history)"
      ]
    },
    {
      "cell_type": "markdown",
      "id": "77ac072b",
      "metadata": {
        "papermill": {
          "duration": 11.699567,
          "end_time": "2022-03-06T05:33:56.398409",
          "exception": false,
          "start_time": "2022-03-06T05:33:44.698842",
          "status": "completed"
        },
        "tags": [],
        "id": "77ac072b"
      },
      "source": [
        "<h2 style='text-align:center;font-family:Comic Sans MS;font-size:40px;background-color:lightseagreen;border:20px;color:white'>Making Final Predictions</h2>"
      ]
    },
    {
      "cell_type": "code",
      "execution_count": null,
      "id": "a6327b6b",
      "metadata": {
        "execution": {
          "iopub.execute_input": "2022-03-06T05:34:20.344784Z",
          "iopub.status.busy": "2022-03-06T05:34:20.343834Z",
          "iopub.status.idle": "2022-03-06T05:34:21.669076Z",
          "shell.execute_reply": "2022-03-06T05:34:21.669464Z"
        },
        "papermill": {
          "duration": 13.074396,
          "end_time": "2022-03-06T05:34:21.669640",
          "exception": false,
          "start_time": "2022-03-06T05:34:08.595244",
          "status": "completed"
        },
        "tags": [],
        "colab": {
          "base_uri": "https://localhost:8080/",
          "height": 541
        },
        "id": "a6327b6b",
        "outputId": "9d342fb2-2226-4369-c173-ff20d06c6d51"
      },
      "outputs": [
        {
          "output_type": "display_data",
          "data": {
            "text/plain": [
              "<Figure size 576x648 with 9 Axes>"
            ],
            "image/png": "[encoded data removed]"
          },
          "metadata": {
            "needs_background": "light"
          }
        }
      ],
      "source": [
        "#predicting the charecters using trained model\n",
        "fig, axes = plt.subplots(3,3, figsize=(8,9))\n",
        "axes = axes.flatten()\n",
        "\n",
        "for i,ax in enumerate(axes):\n",
        "    img = np.reshape(X_test[i], (28,28)) # reshaping it for displaying\n",
        "    ax.imshow(img, cmap=\"Greys\")\n",
        "    img_final =np.reshape(img, (1,28,28,1)) # reshapng it for passing into model for prediction\n",
        "    pred = label_dict_inv[np.argmax(model.predict(img_final))]\n",
        "    ax.set_title(\"Prediction: \"+pred)\n",
        "    ax.grid()"
      ]
    },
    {
      "cell_type": "markdown",
      "id": "c57edcff",
      "metadata": {
        "papermill": {
          "duration": 12.00449,
          "end_time": "2022-03-06T05:34:46.062271",
          "exception": false,
          "start_time": "2022-03-06T05:34:34.057781",
          "status": "completed"
        },
        "tags": [],
        "id": "c57edcff"
      },
      "source": [
        "<h2 style='text-align:center;font-family:Comic Sans MS;font-size:40px;background-color:lightseagreen;border:20px;color:white'>Conclusion</h2>\n",
        "1. The model performed good and was able to predict with 100% accuracy (9 out of 9 predictions are correct)<br>\n",
        "2. The accuracy on test test is 94.17% which is pretty decent for a simple CNN\n"
      ]
    },
    {
      "cell_type": "code",
      "execution_count": null,
      "id": "34393f5c",
      "metadata": {
        "papermill": {
          "duration": 12.177668,
          "end_time": "2022-03-06T05:35:10.171008",
          "exception": false,
          "start_time": "2022-03-06T05:34:57.993340",
          "status": "completed"
        },
        "tags": [],
        "id": "34393f5c"
      },
      "outputs": [],
      "source": [
        ""
      ]
    }
  ],
  "metadata": {
    "kernelspec": {
      "display_name": "Python 3",
      "language": "python",
      "name": "python3"
    },
    "language_info": {
      "codemirror_mode": {
        "name": "ipython",
        "version": 3
      },
      "file_extension": ".py",
      "mimetype": "text/x-python",
      "name": "python",
      "nbconvert_exporter": "python",
      "pygments_lexer": "ipython3",
      "version": "3.7.12"
    },
    "papermill": {
      "default_parameters": {},
      "duration": 2535.709702,
      "end_time": "2022-03-06T05:35:25.210800",
      "environment_variables": {},
      "exception": null,
      "input_path": "__notebook__.ipynb",
      "output_path": "__notebook__.ipynb",
      "parameters": {},
      "start_time": "2022-03-06T04:53:09.501098",
      "version": "2.3.3"
    },
    "colab": {
      "name": "Saad_Ghojaria_Neural Network Type Classification",
      "provenance": [],
      "include_colab_link": true
    },
    "accelerator": "GPU"
  },
  "nbformat": 4,
  "nbformat_minor": 5
}